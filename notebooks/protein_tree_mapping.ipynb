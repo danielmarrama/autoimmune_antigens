{
 "cells": [
  {
   "cell_type": "code",
   "execution_count": 4,
   "id": "5b1e5c21",
   "metadata": {},
   "outputs": [
    {
     "name": "stderr",
     "output_type": "stream",
     "text": [
      "/tmp/ipykernel_5583/566387893.py:5: DtypeWarning: Columns (1,20,25,26,28,31,36,59,60,61) have mixed types. Specify dtype option on import or set low_memory=False.\n",
      "  raw_assay_data = pd.read_csv('../data/raw_assay_data.tsv', sep='\\t')\n"
     ]
    }
   ],
   "source": [
    "import pandas as pd\n",
    "\n",
    "source_assignments = pd.read_csv('/home/dan/projects/protein_tree/build/species/9606/source-assignments.tsv', sep='\\t')\n",
    "source_to_parent_dict = source_assignments.set_index('Accession')['Assigned Protein ID'].to_dict()\n",
    "raw_assay_data = pd.read_csv('../data/raw_assay_data.tsv', sep='\\t')"
   ]
  },
  {
   "cell_type": "code",
   "execution_count": 5,
   "id": "88e0d443",
   "metadata": {},
   "outputs": [
    {
     "data": {
      "text/plain": [
       "Index(['tcell_id', 'tcell_iri', 'structure_id', 'structure_iri',\n",
       "       'linear_sequence', 'structure_type', 'structure_description',\n",
       "       'reference_id', 'reference_iri', 'reference_type', 'pubmed_id',\n",
       "       'reference_authors', 'reference_titles', 'reference_dates',\n",
       "       'journal_name', 'epitope_summary', 'reference_summary',\n",
       "       'immunization_description', 'antigen_description', 'antigen_er',\n",
       "       'mhc_restriction', 'assay_description', 'e_modification',\n",
       "       'linear_sequence_length', 'qualitative_measure', 'mhc_class',\n",
       "       'mhc_allele_resolution', 'submission_id', 'submission_iri', 'pdb_id',\n",
       "       'chebi_ids', 'mhc_allele_evidence', 'antibody_isotype',\n",
       "       'direct_ex_vivo_bool', 'receptor_ids', 'receptor_group_ids',\n",
       "       'tcr_receptor_group_ids', 'bcr_receptor_group_ids',\n",
       "       'receptor_group_iris', 'tcr_receptor_group_iris',\n",
       "       'bcr_receptor_group_iris', 'receptor_types', 'receptor_names',\n",
       "       'receptor_chain1_types', 'receptor_chain2_types',\n",
       "       'receptor_chain1_full_seqs', 'receptor_chain2_full_seqs',\n",
       "       'receptor_chain1_cdr1_seqs', 'receptor_chain2_cdr1_seqs',\n",
       "       'receptor_chain1_cdr2_seqs', 'receptor_chain2_cdr2_seqs',\n",
       "       'receptor_chain1_cdr3_seqs', 'receptor_chain2_cdr3_seqs',\n",
       "       'host_organism_iri_search', 'host_organism_iri', 'host_organism_name',\n",
       "       'source_organism_iri_search', 'source_organism_iri',\n",
       "       'source_organism_name', 'mhc_allele_iri_search', 'mhc_allele_iri',\n",
       "       'mhc_allele_name', 'parent_source_antigen_iri_search',\n",
       "       'parent_source_antigen_iri', 'parent_source_antigen_name',\n",
       "       'parent_source_antigen_source_org_iri',\n",
       "       'parent_source_antigen_source_org_name', 'disease_iri_search',\n",
       "       'disease_iris', 'disease_names', 'assay_iri_search', 'assay_iris',\n",
       "       'assay_names', 'epitope_structure_defined',\n",
       "       'non_peptidic_molecule_iri_search', 'non_peptidic_molecule_iri',\n",
       "       'non_peptidic_molecule_name', 'r_object_source_molecule_iri_search',\n",
       "       'r_object_source_molecule_iri', 'r_object_source_molecule_name',\n",
       "       'r_object_source_organism_iri_search', 'r_object_source_organism_iri',\n",
       "       'r_object_source_organism_name', 'e_related_object_type',\n",
       "       'curated_source_antigen_accession', 'curated_source_antigen_name',\n",
       "       'curated_source_organism_id', 'curated_source_organism_name',\n",
       "       'assay_type', 'bcell_id', 'bcell_iri'],\n",
       "      dtype='object')"
      ]
     },
     "execution_count": 5,
     "metadata": {},
     "output_type": "execute_result"
    }
   ],
   "source": [
    "raw_assay_data.columns"
   ]
  },
  {
   "cell_type": "code",
   "execution_count": 6,
   "id": "777598e7",
   "metadata": {},
   "outputs": [],
   "source": [
    "autoimmune_antigen_ids = list(raw_assay_data['curated_source_antigen_accession'].map(source_to_parent_dict).unique())"
   ]
  },
  {
   "cell_type": "code",
   "execution_count": 7,
   "id": "84934a26",
   "metadata": {},
   "outputs": [],
   "source": [
    "with open('../data/autoimmune_antigen_ids.txt', 'w') as f:\n",
    "    for id in autoimmune_antigen_ids:\n",
    "        f.write(f'{id}\\n')"
   ]
  },
  {
   "cell_type": "code",
   "execution_count": 11,
   "id": "6eaf567d",
   "metadata": {},
   "outputs": [
    {
     "name": "stdout",
     "output_type": "stream",
     "text": [
      "Number of curated source autoantigens:  311\n",
      "Number of consolidated autoantigens from protein tree:  185\n"
     ]
    }
   ],
   "source": [
    "print('Number of curated source autoantigens: ', raw_assay_data['curated_source_antigen_accession'].nunique())\n",
    "print('Number of consolidated autoantigens from protein tree: ', len(autoimmune_antigen_ids))"
   ]
  },
  {
   "cell_type": "code",
   "execution_count": 17,
   "id": "dc409f1f",
   "metadata": {},
   "outputs": [
    {
     "data": {
      "text/plain": [
       "curated_source_antigen_accession  curated_source_antigen_name\n",
       "P02686.3                          Myelin basic protein           131\n",
       "SRC279945                         Myelin basic protein            65\n",
       "J3QQK6                            Myelin basic protein             5\n",
       "E9PJ72.1                          Myelin basic protein             4\n",
       "Name: count, dtype: int64"
      ]
     },
     "execution_count": 17,
     "metadata": {},
     "output_type": "execute_result"
    }
   ],
   "source": [
    "raw_assay_data[raw_assay_data['curated_source_antigen_name'].str.contains('Myelin basic protein')][['curated_source_antigen_accession', 'curated_source_antigen_name']].value_counts()"
   ]
  },
  {
   "cell_type": "code",
   "execution_count": 18,
   "id": "f3e05c36-ed73-438a-b812-472827479582",
   "metadata": {},
   "outputs": [
    {
     "data": {
      "text/plain": [
       "curated_source_antigen_accession  curated_source_antigen_name              \n",
       "P01308.1                          Insulin                                      432\n",
       "1XDA_B                            Chain B, Structure Of Insulin                 36\n",
       "SRC370989                         alternatively spliced Insulin                 15\n",
       "1ZNJ_A                            Chain A, Insulin, Monoclinic Crystal Form      4\n",
       "Name: count, dtype: int64"
      ]
     },
     "execution_count": 18,
     "metadata": {},
     "output_type": "execute_result"
    }
   ],
   "source": [
    "raw_assay_data[raw_assay_data['curated_source_antigen_name'].str.contains('Insulin')][['curated_source_antigen_accession', 'curated_source_antigen_name']].value_counts()"
   ]
  },
  {
   "cell_type": "code",
   "execution_count": null,
   "id": "07a4610a-b182-498f-b5bd-495a3221b480",
   "metadata": {},
   "outputs": [],
   "source": []
  }
 ],
 "metadata": {
  "kernelspec": {
   "display_name": "Python 3 (ipykernel)",
   "language": "python",
   "name": "python3"
  },
  "language_info": {
   "codemirror_mode": {
    "name": "ipython",
    "version": 3
   },
   "file_extension": ".py",
   "mimetype": "text/x-python",
   "name": "python",
   "nbconvert_exporter": "python",
   "pygments_lexer": "ipython3",
   "version": "3.11.6"
  }
 },
 "nbformat": 4,
 "nbformat_minor": 5
}
