{
 "cells": [
  {
   "cell_type": "code",
   "execution_count": 34,
   "id": "5b1e5c21",
   "metadata": {},
   "outputs": [
    {
     "name": "stderr",
     "output_type": "stream",
     "text": [
      "/tmp/ipykernel_42363/3818426227.py:5: DtypeWarning: Columns (1,20,25,26,28,31,36,59,60,61) have mixed types. Specify dtype option on import or set low_memory=False.\n",
      "  raw_assay_data = pd.read_csv('../data/raw_assay_data.tsv', sep='\\t')\n"
     ]
    }
   ],
   "source": [
    "import pandas as pd\n",
    "\n",
    "source_assignments = pd.read_csv('/home/dan/projects/protein_tree/data/species/9606-Homo_sapiens/source_assignments.tsv', sep='\\t')\n",
    "source_to_parent_dict = source_assignments.set_index('Accession')['Assigned Protein ID'].to_dict()\n",
    "raw_assay_data = pd.read_csv('../data/raw_assay_data.tsv', sep='\\t')"
   ]
  },
  {
   "cell_type": "code",
   "execution_count": 35,
   "id": "777598e7",
   "metadata": {},
   "outputs": [],
   "source": [
    "autoimmune_antigen_ids = list(raw_assay_data['curated_source_antigen_accession'].map(source_to_parent_dict).unique())"
   ]
  },
  {
   "cell_type": "code",
   "execution_count": 36,
   "id": "84934a26",
   "metadata": {},
   "outputs": [],
   "source": [
    "with open('../data/autoimmune_antigen_ids.txt', 'w') as f:\n",
    "    for id in autoimmune_antigen_ids:\n",
    "        f.write(f'{id}\\n')"
   ]
  },
  {
   "cell_type": "code",
   "execution_count": 38,
   "id": "6eaf567d",
   "metadata": {},
   "outputs": [
    {
     "data": {
      "text/plain": [
       "190"
      ]
     },
     "execution_count": 38,
     "metadata": {},
     "output_type": "execute_result"
    }
   ],
   "source": [
    "len(autoimmune_antigen_ids)"
   ]
  },
  {
   "cell_type": "code",
   "execution_count": null,
   "id": "38a5af67",
   "metadata": {},
   "outputs": [],
   "source": []
  }
 ],
 "metadata": {
  "kernelspec": {
   "display_name": "Python 3 (ipykernel)",
   "language": "python",
   "name": "python3"
  },
  "language_info": {
   "codemirror_mode": {
    "name": "ipython",
    "version": 3
   },
   "file_extension": ".py",
   "mimetype": "text/x-python",
   "name": "python",
   "nbconvert_exporter": "python",
   "pygments_lexer": "ipython3",
   "version": "3.11.3"
  }
 },
 "nbformat": 4,
 "nbformat_minor": 5
}
