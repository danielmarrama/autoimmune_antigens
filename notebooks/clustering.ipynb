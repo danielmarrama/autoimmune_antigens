{
 "cells": [
  {
   "cell_type": "code",
   "execution_count": 1,
   "id": "c2889f35",
   "metadata": {},
   "outputs": [],
   "source": [
    "import pandas as pd\n",
    "import numpy as np"
   ]
  },
  {
   "cell_type": "code",
   "execution_count": 48,
   "id": "6c6db4b9",
   "metadata": {},
   "outputs": [],
   "source": [
    "ai_data = pd.read_excel('../autoimmune_data.xlsx')"
   ]
  },
  {
   "cell_type": "code",
   "execution_count": 3,
   "id": "78c18269",
   "metadata": {},
   "outputs": [
    {
     "data": {
      "text/plain": [
       "disease_names\n",
       "{\"Behcet's disease\"}                                                         12\n",
       "{\"Goodpasture syndrome\"}                                                     33\n",
       "{\"Graves' disease, Graves disease\"}                                         159\n",
       "{\"Guillain-Barre syndrome\"}                                                  10\n",
       "{\"Sjogren's syndrome\"}                                                        5\n",
       "{\"Vogt-Koyanagi-Harada disease\"}                                             33\n",
       "{\"alopecia areata\"}                                                          15\n",
       "{\"ankylosing spondylitis\"}                                                   16\n",
       "{\"antiphospholipid syndrome\"}                                                 2\n",
       "{\"autoimmune atherosclerosis\"}                                                3\n",
       "{\"autoimmune disease of blood\"}                                               1\n",
       "{\"autoimmune disease of central nervous system\"}                             17\n",
       "{\"autoimmune disease of skin and connective tissue\"}                          1\n",
       "{\"autoimmune hemolytic anemia\"}                                              44\n",
       "{\"autoimmune hepatitis\"}                                                     97\n",
       "{\"autoimmune neuropathy\"}                                                     1\n",
       "{\"autoimmune thrombocytopenic purpura\"}                                      65\n",
       "{\"autoimmune thyroiditis\"}                                                   87\n",
       "{\"autoimmune uveitis\"}                                                       68\n",
       "{\"autoimmune vasculitis\"}                                                     7\n",
       "{\"bacterial infectious disease\",\"reactive arthritis\"}                         3\n",
       "{\"bullous pemphigoid\"}                                                       45\n",
       "{\"celiac disease\"}                                                            4\n",
       "{\"chronic inflammatory demyelinating polyradiculoneuropathy\"}                12\n",
       "{\"experimental autoimmune encephalomyelitis (EAE)\",\"multiple sclerosis\"}      1\n",
       "{\"granulomatosis with polyangiitis\"}                                         57\n",
       "{\"juvenile ankylosing spondylitis\"}                                           1\n",
       "{\"juvenile rheumatoid arthritis\"}                                            19\n",
       "{\"mixed connective tissue disease\"}                                           6\n",
       "{\"multiple sclerosis\"}                                                      591\n",
       "{\"myasthenia gravis\"}                                                       267\n",
       "{\"neuromyelitis optica\"}                                                     44\n",
       "{\"pemphigoid gestationis\"}                                                    3\n",
       "{\"primary biliary cholangitis\"}                                              10\n",
       "{\"psoriatic arthritis\"}                                                       2\n",
       "{\"reactive arthritis\"}                                                        1\n",
       "{\"rheumatoid arthritis\"}                                                    228\n",
       "{\"systemic lupus erythematosus\"}                                             63\n",
       "{\"type 1 diabetes mellitus\"}                                                615\n",
       "{pemphigus}                                                                  33\n",
       "{psoriasis}                                                                  77\n",
       "{rubella,\"type 1 diabetes mellitus\"}                                          3\n",
       "{rubella}                                                                     3\n",
       "{vitiligo}                                                                   14\n",
       "Name: linear_sequence, dtype: int64"
      ]
     },
     "execution_count": 3,
     "metadata": {},
     "output_type": "execute_result"
    }
   ],
   "source": [
    "df.groupby('disease_names')['linear_sequence'].apply(lambda x: len(list(np.unique(x))))"
   ]
  },
  {
   "cell_type": "code",
   "execution_count": 52,
   "id": "9a0b2b04",
   "metadata": {},
   "outputs": [],
   "source": [
    "d = dict(ai_data['linear_sequence'].value_counts())\n",
    "diseases = ['type_1_diabetes_mellitus', 'autoimmune_hepatisis', 'rheumatoid_arthritis', 'myasthenia_gravis', 'psoriasis']\n",
    "\n",
    "data = []\n",
    "for disease in diseases:\n",
    "    df = pd.read_csv('%s_clustering.csv' % disease)\n",
    "    df['#_of_assays'] = df['Peptide'].map(d)\n",
    "    \n",
    "    for i, group in df.groupby('Cluster.Sub-Cluster Number'):\n",
    "        if len(group) == 1:\n",
    "            data.append((group['Peptide'].iloc[0], disease))\n",
    "        else:\n",
    "            data.append((group.loc[group.iloc[1:]['#_of_assays'].idxmax()]['Peptide'], disease))\n",
    "            \n",
    "    "
   ]
  },
  {
   "cell_type": "code",
   "execution_count": 57,
   "id": "a48f5b49",
   "metadata": {},
   "outputs": [],
   "source": [
    "pd.DataFrame(data, columns=['epitope', 'disease']).to_csv('autoimmune_megapools.csv')"
   ]
  },
  {
   "cell_type": "code",
   "execution_count": 61,
   "id": "3a654c54",
   "metadata": {},
   "outputs": [],
   "source": [
    "df = pd.read_csv('../data/zeynep/autoimmune_megapools.csv', index_col=0)"
   ]
  },
  {
   "cell_type": "code",
   "execution_count": 62,
   "id": "1be6addc",
   "metadata": {},
   "outputs": [
    {
     "data": {
      "text/plain": [
       "type_1_diabetes_mellitus    220\n",
       "rheumatoid_arthritis        187\n",
       "myasthenia_gravis           118\n",
       "autoimmune_hepatisis         71\n",
       "psoriasis                    41\n",
       "Name: disease, dtype: int64"
      ]
     },
     "execution_count": 62,
     "metadata": {},
     "output_type": "execute_result"
    }
   ],
   "source": [
    "df['disease'].value_counts()"
   ]
  },
  {
   "cell_type": "code",
   "execution_count": null,
   "id": "3ad6194f",
   "metadata": {},
   "outputs": [],
   "source": []
  },
  {
   "cell_type": "code",
   "execution_count": null,
   "id": "e725c551",
   "metadata": {},
   "outputs": [],
   "source": []
  },
  {
   "cell_type": "code",
   "execution_count": null,
   "id": "a028371c",
   "metadata": {},
   "outputs": [],
   "source": []
  },
  {
   "cell_type": "code",
   "execution_count": null,
   "id": "d12eb333",
   "metadata": {},
   "outputs": [],
   "source": []
  },
  {
   "cell_type": "code",
   "execution_count": 31,
   "id": "a395a2d0",
   "metadata": {},
   "outputs": [],
   "source": [
    "import matplotlib.pyplot as plt\n",
    "\n",
    "import seaborn\n",
    "\n",
    "from cdhit_reader import read_cdhit"
   ]
  },
  {
   "cell_type": "code",
   "execution_count": 30,
   "id": "8d1a253e",
   "metadata": {},
   "outputs": [
    {
     "name": "stdout",
     "output_type": "stream",
     "text": [
      "Cluster(name=Cluster 1112, len=151)\n"
     ]
    }
   ],
   "source": [
    "clusters = read_cdhit('../human_db40.clstr')\n",
    "\n",
    "sizes = []\n",
    "for cluster in clusters:\n",
    "    sizes.append(len(cluster))\n",
    "    if len(cluster) == 151:\n",
    "        print(cluster)"
   ]
  },
  {
   "cell_type": "code",
   "execution_count": 39,
   "id": "537e7914",
   "metadata": {},
   "outputs": [
    {
     "data": {
      "text/plain": [
       "<AxesSubplot:title={'center':'Human Proteome Cluster Sizes using CD-HIT @ 40%'}, xlabel='Protein Count', ylabel='Cluster Frequency'>"
      ]
     },
     "execution_count": 39,
     "metadata": {},
     "output_type": "execute_result"
    },
    {
     "data": {
      "image/png": "[encoded data removed]",
      "text/plain": [
       "<Figure size 720x576 with 1 Axes>"
      ]
     },
     "metadata": {
      "needs_background": "light"
     },
     "output_type": "display_data"
    }
   ],
   "source": [
    "plt.figure(figsize=(10,8))\n",
    "plt.title('Human Proteome Cluster Sizes using CD-HIT @ 40%')\n",
    "plt.xlabel('Protein Count')\n",
    "plt.ylabel('Cluster Frequency')\n",
    "seaborn.histplot(sorted(sizes, reverse=True)[:], bins=100, log_scale=(False,True), )"
   ]
  },
  {
   "cell_type": "code",
   "execution_count": null,
   "id": "a1234d17",
   "metadata": {},
   "outputs": [],
   "source": []
  }
 ],
 "metadata": {
  "kernelspec": {
   "display_name": "Python 3 (ipykernel)",
   "language": "python",
   "name": "python3"
  },
  "language_info": {
   "codemirror_mode": {
    "name": "ipython",
    "version": 3
   },
   "file_extension": ".py",
   "mimetype": "text/x-python",
   "name": "python",
   "nbconvert_exporter": "python",
   "pygments_lexer": "ipython3",
   "version": "3.10.8"
  }
 },
 "nbformat": 4,
 "nbformat_minor": 5
}
