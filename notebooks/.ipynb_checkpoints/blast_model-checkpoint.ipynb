{
 "cells": [
  {
   "cell_type": "code",
   "execution_count": 9,
   "id": "f94e161d",
   "metadata": {},
   "outputs": [],
   "source": [
    "import os\n",
    "\n",
    "import pandas as pd\n",
    "\n",
    "from Bio import SeqIO\n",
    "from Bio.SeqRecord import SeqRecord\n",
    "from Bio.Blast.Applications import NcbiblastpCommandline"
   ]
  },
  {
   "cell_type": "code",
   "execution_count": 2,
   "id": "f77fa02c",
   "metadata": {},
   "outputs": [],
   "source": [
    "data = pd.read_csv('../combined_data.csv')"
   ]
  },
  {
   "cell_type": "code",
   "execution_count": 7,
   "id": "08ccd202",
   "metadata": {},
   "outputs": [],
   "source": [
    "seqs = []\n",
    "for i, row in data[data['fold'] != 1].iterrows():\n",
    "    seqs.append(SeqRecord(row['sequence'], id=row['id'], description=''))\n",
    "\n",
    "with open('folds2-5.fasta', 'w') as f:\n",
    "    SeqIO.write(seqs, f, 'fasta')"
   ]
  },
  {
   "cell_type": "code",
   "execution_count": 12,
   "id": "7d669cb1",
   "metadata": {},
   "outputs": [
    {
     "name": "stdout",
     "output_type": "stream",
     "text": [
      "\n",
      "\n",
      "Building a new DB, current time: 12/07/2022 11:58:19\n",
      "New DB name:   /home/dan/projects/autoimmunity/method2/folds2-5.fasta\n",
      "New DB title:  folds2-5.fasta\n",
      "Sequence type: Protein\n",
      "Deleted existing Protein BLAST database named /home/dan/projects/autoimmunity/method2/folds2-5.fasta\n",
      "Keep MBits: T\n",
      "Maximum file size: 3000000000B\n"
     ]
    },
    {
     "name": "stderr",
     "output_type": "stream",
     "text": [
      "FASTA-Reader: Ignoring invalid residues at position(s): On line 1569: 8, 18, 40\n",
      "FASTA-Reader: Ignoring invalid residues at position(s): On line 1570: 31, 41\n",
      "FASTA-Reader: Ignoring invalid residues at position(s): On line 1571: 3, 54\n",
      "FASTA-Reader: Ignoring invalid residues at position(s): On line 1572: 4, 26\n",
      "FASTA-Reader: Ignoring invalid residues at position(s): On line 1574: 1, 15-19, 22, 27, 30-31, 34-35\n"
     ]
    },
    {
     "name": "stdout",
     "output_type": "stream",
     "text": [
      "Adding sequences from FASTA; added 16421 sequences in 0.264981 seconds.\n",
      "\n",
      "\n"
     ]
    },
    {
     "data": {
      "text/plain": [
       "0"
      ]
     },
     "execution_count": 12,
     "metadata": {},
     "output_type": "execute_result"
    }
   ],
   "source": [
    "os.system('../blast/makeblastdb' + ' -in ' + 'folds2-5.fasta' + ' -dbtype prot')"
   ]
  },
  {
   "cell_type": "code",
   "execution_count": 17,
   "id": "9a73aa3c",
   "metadata": {},
   "outputs": [],
   "source": [
    "blastx_cline = NcbiblastpCommandline(\n",
    "                cmd='../blast/blastp',\n",
    "                query = 'fold1.fasta',\n",
    "                db = 'folds2-5.fasta', \n",
    "                evalue=100, outfmt=7, out='fold1_output.csv')\n",
    "\n",
    "stdout, stderr = blastx_cline()"
   ]
  },
  {
   "cell_type": "code",
   "execution_count": null,
   "id": "d3cf6115",
   "metadata": {},
   "outputs": [],
   "source": []
  },
  {
   "cell_type": "code",
   "execution_count": null,
   "id": "7e25cf90",
   "metadata": {},
   "outputs": [],
   "source": []
  },
  {
   "cell_type": "code",
   "execution_count": null,
   "id": "d10ecf06",
   "metadata": {},
   "outputs": [],
   "source": []
  },
  {
   "cell_type": "code",
   "execution_count": 33,
   "id": "ffc36e75",
   "metadata": {},
   "outputs": [],
   "source": [
    "category_map = dict(zip(data['id'], data['category']))\n",
    "\n",
    "columns = ['query', 'subject', '%_identity', 'alignment_length', 'mismatches', 'gap_opens', 'q_start', 'q_end', 's_start', 's_end', 'evalue', 'bit_score']\n",
    "df = pd.read_csv('fold1_output.csv', names=columns)\n",
    "\n",
    "df['query_category'] = df['query'].map(category_map)\n",
    "df['subject_category'] = df['subject'].map(category_map)"
   ]
  },
  {
   "cell_type": "code",
   "execution_count": 44,
   "id": "fc060157",
   "metadata": {},
   "outputs": [],
   "source": [
    "idx = df.groupby('query')['%_identity'].transform(max) == df['%_identity']\n",
    "df[idx]\n",
    "\n",
    "df['result'] = ''\n",
    "\n",
    "for i, row in df.iterrows():\n",
    "    if row['query_category'] == 'autoimmune' and row['query_category'] == 'autoimmune':\n",
    "        df.loc[i, 'result'] = 'TP'\n",
    "    elif row['query_category'] == 'autoimmune' and row['subject_category'] == 'non_autoimmune':\n",
    "        df.loc[i, 'result'] = 'FN'\n",
    "    elif row['query_category'] == 'non_autoimmune' and row['subject_category'] == 'autoimmune':\n",
    "        df.loc[i, 'result'] = 'FP'\n",
    "    else:\n",
    "        df.loc[i, 'result'] = 'TN'"
   ]
  },
  {
   "cell_type": "code",
   "execution_count": 45,
   "id": "79986233",
   "metadata": {},
   "outputs": [
    {
     "data": {
      "text/plain": [
       "TN    796159\n",
       "TP     28048\n",
       "Name: result, dtype: int64"
      ]
     },
     "execution_count": 45,
     "metadata": {},
     "output_type": "execute_result"
    }
   ],
   "source": [
    "df['result'].value_counts()"
   ]
  },
  {
   "cell_type": "code",
   "execution_count": null,
   "id": "a49201f4",
   "metadata": {},
   "outputs": [],
   "source": []
  },
  {
   "cell_type": "code",
   "execution_count": null,
   "id": "30d0cfd6",
   "metadata": {},
   "outputs": [],
   "source": []
  },
  {
   "cell_type": "code",
   "execution_count": null,
   "id": "d44b7730",
   "metadata": {},
   "outputs": [],
   "source": []
  },
  {
   "cell_type": "code",
   "execution_count": null,
   "id": "5fdb60df",
   "metadata": {},
   "outputs": [],
   "source": []
  },
  {
   "cell_type": "code",
   "execution_count": null,
   "id": "a24c2deb",
   "metadata": {},
   "outputs": [],
   "source": [
    "X = r['Sequence Identity']\n",
    "y = ~r['test_normal']\n",
    "\n",
    "fpr, tpr, thresh = roc_curve(y, X)\n",
    "roc_df = pd.DataFrame(zip(fpr, tpr, thresh), columns = ['FPR', 'TPR', 'Threshold'])\n",
    "\n",
    "fig = px.area(roc_df, x='FPR', y='TPR', hover_data = ['Threshold'], title='BLAST Model - Autoimmune Prediction')\n",
    "fig.add_shape(type='line', line=dict(dash='dash'), x0=0, x1=1, y0=0, y1=1)\n",
    "fig.add_annotation(x=0.5, y=0.4, text=f'AUC={roc_auc_score(y, X):.2f}', showarrow=False)\n",
    "fig.update_layout(width=600, height=600)\n",
    "\n",
    "fig.show()"
   ]
  }
 ],
 "metadata": {
  "kernelspec": {
   "display_name": "Python 3 (ipykernel)",
   "language": "python",
   "name": "python3"
  },
  "language_info": {
   "codemirror_mode": {
    "name": "ipython",
    "version": 3
   },
   "file_extension": ".py",
   "mimetype": "text/x-python",
   "name": "python",
   "nbconvert_exporter": "python",
   "pygments_lexer": "ipython3",
   "version": "3.10.4"
  }
 },
 "nbformat": 4,
 "nbformat_minor": 5
}
