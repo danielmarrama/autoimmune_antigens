{
 "cells": [
  {
   "cell_type": "markdown",
   "id": "1f5dbc57",
   "metadata": {},
   "source": [
    "# BLAST Model for Comparing Autoimmune Features"
   ]
  },
  {
   "cell_type": "code",
   "execution_count": 76,
   "id": "ae64b559",
   "metadata": {},
   "outputs": [],
   "source": [
    "import re, os\n",
    "import requests\n",
    "import pandas as pd\n",
    "import numpy as np\n",
    "import plotly.express as px\n",
    "import matplotlib.pyplot as plt\n",
    "\n",
    "from sklearn.model_selection import train_test_split\n",
    "from sklearn.metrics import roc_curve\n",
    "from sklearn.metrics import roc_auc_score\n",
    "\n",
    "from Bio import SeqIO\n",
    "from Bio.SeqRecord import SeqRecord\n",
    "from Bio.Seq import Seq\n",
    "\n",
    "def get_gene(record):\n",
    "    try:\n",
    "        return re.search('GN=(.*?) ', record.description).group(1)\n",
    "    except AttributeError:\n",
    "        return ''"
   ]
  },
  {
   "cell_type": "code",
   "execution_count": 22,
   "id": "94ffa702",
   "metadata": {},
   "outputs": [],
   "source": [
    "antigens = list(SeqIO.parse('../autoimmune_antigens.fasta', 'fasta'))"
   ]
  },
  {
   "cell_type": "code",
   "execution_count": 97,
   "id": "17d658d1",
   "metadata": {},
   "outputs": [
    {
     "ename": "KeyError",
     "evalue": "'A0A075B6N2'",
     "output_type": "error",
     "traceback": [
      "\u001b[0;31m---------------------------------------------------------------------------\u001b[0m",
      "\u001b[0;31mKeyError\u001b[0m                                  Traceback (most recent call last)",
      "Input \u001b[0;32mIn [97]\u001b[0m, in \u001b[0;36m<module>\u001b[0;34m\u001b[0m\n\u001b[1;32m     20\u001b[0m             matrix_map[antigen1_id]\u001b[38;5;241m.\u001b[39mappend(\u001b[38;5;241m1\u001b[39m)\n\u001b[1;32m     21\u001b[0m         \u001b[38;5;28;01melse\u001b[39;00m:\n\u001b[1;32m     22\u001b[0m \u001b[38;5;66;03m#             try:\u001b[39;00m\n\u001b[0;32m---> 23\u001b[0m             matrix_map[antigen1_id]\u001b[38;5;241m.\u001b[39mappend(\u001b[43mid_to_evalue\u001b[49m\u001b[43m[\u001b[49m\u001b[43mantigen2_id\u001b[49m\u001b[43m]\u001b[49m)\n",
      "\u001b[0;31mKeyError\u001b[0m: 'A0A075B6N2'"
     ]
    }
   ],
   "source": [
    "columns = ['query', 'subject', '% identity', 'align length', 'mismatches', 'gap opens', 'q.start', 'q.end', 's.start', 's.end', 'evalue', 'bit score']\n",
    "\n",
    "index = []\n",
    "matrix_map = {}\n",
    "for antigen1 in antigens:\n",
    "\n",
    "    antigen1_id = antigen1.id.split('|')[1]\n",
    "    index.append(antigen1_id)\n",
    "    \n",
    "    # keep track of evalues for all other antigens\n",
    "    matrix_map[antigen1_id] = []\n",
    "\n",
    "    df = pd.read_csv('../blast_results/%s_BLAST_results.csv' % antigen1_id, skiprows=5, sep='\\t', names=columns).iloc[:-1, :]\n",
    "    \n",
    "    id_to_evalue = dict(zip(df['subject'], df['evalue']))\n",
    "    \n",
    "    for antigen2 in antigens:\n",
    "        antigen2_id = antigen2.id.split('|')[1]\n",
    "        if antigen1_id == antigen2_id:\n",
    "            matrix_map[antigen1_id].append(1)\n",
    "        else:\n",
    "#             try:\n",
    "            matrix_map[antigen1_id].append(id_to_evalue[antigen2_id])\n",
    "#             except KeyError:\n",
    "#                 matrix_map[antigen1_id].append(0)"
   ]
  },
  {
   "cell_type": "code",
   "execution_count": 73,
   "id": "c2a84ad8",
   "metadata": {},
   "outputs": [],
   "source": [
    "df = pd.DataFrame.from_dict(matrix_map)\n",
    "df.index = index"
   ]
  },
  {
   "cell_type": "code",
   "execution_count": 94,
   "id": "6c41a06b",
   "metadata": {},
   "outputs": [
    {
     "data": {
      "text/plain": [
       "True"
      ]
     },
     "execution_count": 94,
     "metadata": {},
     "output_type": "execute_result"
    }
   ],
   "source": [
    "(np.array(df) == np.identity(440)).all()"
   ]
  },
  {
   "cell_type": "code",
   "execution_count": 71,
   "id": "caf7891e",
   "metadata": {},
   "outputs": [
    {
     "data": {
      "text/plain": [
       "60"
      ]
     },
     "execution_count": 71,
     "metadata": {},
     "output_type": "execute_result"
    }
   ],
   "source": [
    "df = pd.read_csv('../blast_results/P02751_BLAST_results.csv', skiprows=5, sep='\\t', names=columns).iloc[:-1, :]\n",
    "len(df.sort_values('evalue').drop_duplicates('subject').sort_index()['subject'].unique())"
   ]
  },
  {
   "cell_type": "code",
   "execution_count": null,
   "id": "5cc31ad0",
   "metadata": {},
   "outputs": [],
   "source": []
  },
  {
   "cell_type": "code",
   "execution_count": 5,
   "id": "b123fd1d",
   "metadata": {},
   "outputs": [],
   "source": [
    "ai = list(SeqIO.parse('autoimmune_antigens.fasta', 'fasta'))\n",
    "\n",
    "ids   = [record.id.split('|')[1] for record in ai]\n",
    "genes = [get_gene(record) for record in ai]\n",
    "seqs  = [str(record.seq) for record in ai]\n",
    "df    = pd.DataFrame({'id': ids, 'gene': genes, 'seq': seqs})\n",
    "\n",
    "# df.to_csv('autoimmune_antigens.csv')"
   ]
  },
  {
   "cell_type": "code",
   "execution_count": 7,
   "id": "e7197998",
   "metadata": {},
   "outputs": [],
   "source": [
    "cancer = list(SeqIO.parse('cancer_antigens.fasta', 'fasta'))\n",
    "\n",
    "ids  = [record.id.split('|')[1] for record in cancer]\n",
    "genes = [get_gene(record) for record in cancer]\n",
    "seqs = [str(record.seq) for record in cancer]\n",
    "df    = pd.DataFrame({'id': ids, 'gene': genes, 'seq': seqs})\n",
    "\n",
    "# df.to_csv('cancer_antigens.csv')"
   ]
  },
  {
   "cell_type": "code",
   "execution_count": 11,
   "id": "73b7c17d",
   "metadata": {},
   "outputs": [],
   "source": [
    "human = list(SeqIO.parse('../data/human_proteome.fasta', 'fasta'))\n",
    "\n",
    "ids  = [record.id.split('|')[1] for record in human]\n",
    "genes = [get_gene(record) for record in human]\n",
    "seqs = [str(record.seq) for record in human]\n",
    "names = [re.search(' (.*) OS', record.description).group(1) for record in human] \n",
    "df    = pd.DataFrame({'id': ids, 'name': names, 'gene': genes, 'seq': seqs})\n",
    "\n",
    "# df.to_csv('human_proteome.csv')"
   ]
  },
  {
   "cell_type": "code",
   "execution_count": 15,
   "id": "6bf210d8",
   "metadata": {},
   "outputs": [],
   "source": [
    "id_to_name_map = {}\n",
    "for record in human:\n",
    "    id_to_name_map[record.id.split('|')[1]] = re.search(' (.*) OS', record.description).group(1)"
   ]
  },
  {
   "cell_type": "code",
   "execution_count": 9,
   "id": "86d04bd2",
   "metadata": {},
   "outputs": [],
   "source": [
    "df = pd.read_csv('human_proteome.csv', index_col=0)\n",
    "df = df.dropna(subset=['gene'])"
   ]
  },
  {
   "cell_type": "code",
   "execution_count": 10,
   "id": "adb65888",
   "metadata": {},
   "outputs": [],
   "source": [
    "df['autoimmune'] = df['gene'].isin(pd.read_csv('autoimmune_antigens.csv', index_col=0)['gene'])"
   ]
  },
  {
   "cell_type": "code",
   "execution_count": 45,
   "id": "faf1e984",
   "metadata": {},
   "outputs": [],
   "source": [
    "df.to_csv('human_proteome.csv')"
   ]
  },
  {
   "cell_type": "code",
   "execution_count": 46,
   "id": "aa6990ac",
   "metadata": {},
   "outputs": [
    {
     "data": {
      "text/html": [
       "<div>\n",
       "<style scoped>\n",
       "    .dataframe tbody tr th:only-of-type {\n",
       "        vertical-align: middle;\n",
       "    }\n",
       "\n",
       "    .dataframe tbody tr th {\n",
       "        vertical-align: top;\n",
       "    }\n",
       "\n",
       "    .dataframe thead th {\n",
       "        text-align: right;\n",
       "    }\n",
       "</style>\n",
       "<table border=\"1\" class=\"dataframe\">\n",
       "  <thead>\n",
       "    <tr style=\"text-align: right;\">\n",
       "      <th></th>\n",
       "      <th>id</th>\n",
       "      <th>name</th>\n",
       "      <th>gene</th>\n",
       "      <th>seq</th>\n",
       "      <th>autoimmune</th>\n",
       "    </tr>\n",
       "  </thead>\n",
       "  <tbody>\n",
       "    <tr>\n",
       "      <th>0</th>\n",
       "      <td>A0A087WT01</td>\n",
       "      <td>T cell receptor alpha variable 27</td>\n",
       "      <td>TRAV27</td>\n",
       "      <td>MVLKFSVSILWIQLAWVSTQLLEQSPQFLSIQEGENLTVYCNSSSV...</td>\n",
       "      <td>False</td>\n",
       "    </tr>\n",
       "    <tr>\n",
       "      <th>2</th>\n",
       "      <td>A0AUZ9</td>\n",
       "      <td>KAT8 regulatory NSL complex subunit 1-like pro...</td>\n",
       "      <td>KANSL1L</td>\n",
       "      <td>MTPALREATAKGISFSSLPSTMESDKMLYMESPRTVDEKLKGDTFS...</td>\n",
       "      <td>False</td>\n",
       "    </tr>\n",
       "    <tr>\n",
       "      <th>3</th>\n",
       "      <td>A1A580</td>\n",
       "      <td>Keratin-associated protein 23-1</td>\n",
       "      <td>KRTAP23-1</td>\n",
       "      <td>MSYNCCCGNFSSHSCEGYLCYSGYSRGGSSYPSNLVYSTEPLISQH...</td>\n",
       "      <td>False</td>\n",
       "    </tr>\n",
       "    <tr>\n",
       "      <th>4</th>\n",
       "      <td>A6NIH7</td>\n",
       "      <td>Protein unc-119 homolog B</td>\n",
       "      <td>UNC119B</td>\n",
       "      <td>MSGSNPKAAAAASAAGPGGLVAGKEEKKKAGGGVLNRLKARRQAPH...</td>\n",
       "      <td>False</td>\n",
       "    </tr>\n",
       "    <tr>\n",
       "      <th>5</th>\n",
       "      <td>A6NM03</td>\n",
       "      <td>Olfactory receptor 2AG2</td>\n",
       "      <td>OR2AG2</td>\n",
       "      <td>MELRNSTLGSGFILVGILNDSGSPELLYATFTILYMLALTSNGLLL...</td>\n",
       "      <td>False</td>\n",
       "    </tr>\n",
       "    <tr>\n",
       "      <th>...</th>\n",
       "      <td>...</td>\n",
       "      <td>...</td>\n",
       "      <td>...</td>\n",
       "      <td>...</td>\n",
       "      <td>...</td>\n",
       "    </tr>\n",
       "    <tr>\n",
       "      <th>20595</th>\n",
       "      <td>Q9Y250</td>\n",
       "      <td>Leucine zipper putative tumor suppressor 1</td>\n",
       "      <td>LZTS1</td>\n",
       "      <td>MGSVSSLISGHSFHSKHCRASQYKLRKSSHLKKLNRYSDGLLRFGF...</td>\n",
       "      <td>False</td>\n",
       "    </tr>\n",
       "    <tr>\n",
       "      <th>20596</th>\n",
       "      <td>Q9Y3M8</td>\n",
       "      <td>StAR-related lipid transfer protein 13</td>\n",
       "      <td>STARD13</td>\n",
       "      <td>MFSQVPRTPASGCYYLNSMTPEGQEMYLRFDQTTRRSPYRMSRILA...</td>\n",
       "      <td>False</td>\n",
       "    </tr>\n",
       "    <tr>\n",
       "      <th>20597</th>\n",
       "      <td>Q9Y458</td>\n",
       "      <td>T-box transcription factor TBX22</td>\n",
       "      <td>TBX22</td>\n",
       "      <td>MALSSRARAFSVEALVGRPSKRKLQDPIQAEQPELREKKGGEEEEE...</td>\n",
       "      <td>False</td>\n",
       "    </tr>\n",
       "    <tr>\n",
       "      <th>20598</th>\n",
       "      <td>Q9Y663</td>\n",
       "      <td>Heparan sulfate glucosamine 3-O-sulfotransfera...</td>\n",
       "      <td>HS3ST3A1</td>\n",
       "      <td>MAPPGPASALSTSAEPLSRSIFRKFLLMLCSLLTSLYVFYCLAERC...</td>\n",
       "      <td>False</td>\n",
       "    </tr>\n",
       "    <tr>\n",
       "      <th>20599</th>\n",
       "      <td>W6CW81</td>\n",
       "      <td>Pyrin domain-containing protein 5</td>\n",
       "      <td>PYDC5</td>\n",
       "      <td>MESKYKEILLLTSLDNITDEELDRFKCFLPDEFNIATGKLHTLNST...</td>\n",
       "      <td>False</td>\n",
       "    </tr>\n",
       "  </tbody>\n",
       "</table>\n",
       "<p>20382 rows × 5 columns</p>\n",
       "</div>"
      ],
      "text/plain": [
       "               id                                               name  \\\n",
       "0      A0A087WT01                  T cell receptor alpha variable 27   \n",
       "2          A0AUZ9  KAT8 regulatory NSL complex subunit 1-like pro...   \n",
       "3          A1A580                    Keratin-associated protein 23-1   \n",
       "4          A6NIH7                          Protein unc-119 homolog B   \n",
       "5          A6NM03                            Olfactory receptor 2AG2   \n",
       "...           ...                                                ...   \n",
       "20595      Q9Y250         Leucine zipper putative tumor suppressor 1   \n",
       "20596      Q9Y3M8             StAR-related lipid transfer protein 13   \n",
       "20597      Q9Y458                   T-box transcription factor TBX22   \n",
       "20598      Q9Y663  Heparan sulfate glucosamine 3-O-sulfotransfera...   \n",
       "20599      W6CW81                  Pyrin domain-containing protein 5   \n",
       "\n",
       "            gene                                                seq  \\\n",
       "0         TRAV27  MVLKFSVSILWIQLAWVSTQLLEQSPQFLSIQEGENLTVYCNSSSV...   \n",
       "2        KANSL1L  MTPALREATAKGISFSSLPSTMESDKMLYMESPRTVDEKLKGDTFS...   \n",
       "3      KRTAP23-1  MSYNCCCGNFSSHSCEGYLCYSGYSRGGSSYPSNLVYSTEPLISQH...   \n",
       "4        UNC119B  MSGSNPKAAAAASAAGPGGLVAGKEEKKKAGGGVLNRLKARRQAPH...   \n",
       "5         OR2AG2  MELRNSTLGSGFILVGILNDSGSPELLYATFTILYMLALTSNGLLL...   \n",
       "...          ...                                                ...   \n",
       "20595      LZTS1  MGSVSSLISGHSFHSKHCRASQYKLRKSSHLKKLNRYSDGLLRFGF...   \n",
       "20596    STARD13  MFSQVPRTPASGCYYLNSMTPEGQEMYLRFDQTTRRSPYRMSRILA...   \n",
       "20597      TBX22  MALSSRARAFSVEALVGRPSKRKLQDPIQAEQPELREKKGGEEEEE...   \n",
       "20598   HS3ST3A1  MAPPGPASALSTSAEPLSRSIFRKFLLMLCSLLTSLYVFYCLAERC...   \n",
       "20599      PYDC5  MESKYKEILLLTSLDNITDEELDRFKCFLPDEFNIATGKLHTLNST...   \n",
       "\n",
       "       autoimmune  \n",
       "0           False  \n",
       "2           False  \n",
       "3           False  \n",
       "4           False  \n",
       "5           False  \n",
       "...           ...  \n",
       "20595       False  \n",
       "20596       False  \n",
       "20597       False  \n",
       "20598       False  \n",
       "20599       False  \n",
       "\n",
       "[20382 rows x 5 columns]"
      ]
     },
     "execution_count": 46,
     "metadata": {},
     "output_type": "execute_result"
    }
   ],
   "source": [
    "df"
   ]
  },
  {
   "cell_type": "code",
   "execution_count": null,
   "id": "f9d10a0d",
   "metadata": {},
   "outputs": [],
   "source": []
  },
  {
   "cell_type": "code",
   "execution_count": 47,
   "id": "75cbb4eb",
   "metadata": {},
   "outputs": [],
   "source": [
    "train, test = train_test_split(df, test_size=0.2, random_state=42)"
   ]
  },
  {
   "cell_type": "code",
   "execution_count": 49,
   "id": "343e4d45",
   "metadata": {},
   "outputs": [],
   "source": [
    "\n",
    "\n",
    "count = 1\n",
    "sequences = []\n",
    "for i, row in train.iterrows():\n",
    "    id = row['id'] + '-autoimmune-train-%s' % str(count) if row['autoimmune'] else row['id'] + '-normal-train-%s' % str(count)\n",
    "    record = SeqRecord(\n",
    "        Seq(row['seq']),\n",
    "        id = id,\n",
    "        description = row['name']\n",
    ")\n",
    "    sequences.append(record)\n",
    "    count+=1\n",
    "\n",
    "    \n",
    "with open(\"train.fasta\", \"w\") as output_handle:\n",
    "    SeqIO.write(sequences, output_handle, \"fasta\")\n",
    "    \n",
    "\n",
    "count = 1\n",
    "sequences = []\n",
    "for i, row in test.iterrows():\n",
    "    id = row['id'] + '-autoimmune-test-%s' % str(count) if row['autoimmune'] else row['id'] + '-normal-test-%s' % str(count)\n",
    "    record = SeqRecord(\n",
    "        Seq(row['seq']),\n",
    "        id = id,\n",
    "        description = row['name']\n",
    ")\n",
    "    sequences.append(record)\n",
    "    count+=1\n",
    "    \n",
    "    \n",
    "with open(\"test.fasta\", \"w\") as output_handle:\n",
    "    SeqIO.write(sequences, output_handle, \"fasta\")"
   ]
  },
  {
   "cell_type": "code",
   "execution_count": 50,
   "id": "63a9e160",
   "metadata": {},
   "outputs": [],
   "source": [
    "from Bio.Blast.Applications import NcbiblastpCommandline\n",
    "import os"
   ]
  },
  {
   "cell_type": "code",
   "execution_count": 51,
   "id": "0536c40d",
   "metadata": {},
   "outputs": [
    {
     "name": "stdout",
     "output_type": "stream",
     "text": [
      "\n",
      "\n",
      "Building a new DB, current time: 09/16/2022 10:21:52\n",
      "New DB name:   /home/dan/projects/antigen_classification/train.fasta\n",
      "New DB title:  train.fasta\n",
      "Sequence type: Protein\n",
      "Deleted existing Protein BLAST database named /home/dan/projects/antigen_classification/train.fasta\n",
      "Keep MBits: T\n",
      "Maximum file size: 1000000000B\n",
      "Adding sequences from FASTA; added 16305 sequences in 0.352901 seconds.\n",
      "\n",
      "\n"
     ]
    },
    {
     "data": {
      "text/plain": [
       "0"
      ]
     },
     "execution_count": 51,
     "metadata": {},
     "output_type": "execute_result"
    }
   ],
   "source": [
    "os.system('/home/dan/projects/apps/ncbi-blast-2.10.0+/bin/makeblastdb -in train.fasta -dbtype prot')"
   ]
  },
  {
   "cell_type": "code",
   "execution_count": 52,
   "id": "d130ddab",
   "metadata": {},
   "outputs": [],
   "source": [
    "test = SeqIO.parse('/home/dan/projects/antigen_classification/test.fasta', 'fasta')"
   ]
  },
  {
   "cell_type": "code",
   "execution_count": 53,
   "id": "6015333b",
   "metadata": {},
   "outputs": [],
   "source": [
    "blastx_cline = NcbiblastpCommandline(cmd     = '/home/dan/projects/apps/ncbi-blast-2.10.0+/bin/blastp',\n",
    "                                      query  = '/home/dan/projects/antigen_classification/test.fasta',\n",
    "                                      db     = '/home/dan/projects/antigen_classification/train.fasta',\n",
    "                                      evalue = 100, outfmt = 10, out='output.csv')\n",
    "stdout, stderr = blastx_cline()"
   ]
  },
  {
   "cell_type": "code",
   "execution_count": null,
   "id": "e6974560",
   "metadata": {},
   "outputs": [],
   "source": []
  },
  {
   "cell_type": "code",
   "execution_count": null,
   "id": "aed61400",
   "metadata": {},
   "outputs": [],
   "source": []
  },
  {
   "cell_type": "code",
   "execution_count": null,
   "id": "79cc009c",
   "metadata": {},
   "outputs": [],
   "source": []
  },
  {
   "cell_type": "code",
   "execution_count": null,
   "id": "5da051b6",
   "metadata": {},
   "outputs": [],
   "source": []
  },
  {
   "cell_type": "code",
   "execution_count": 24,
   "id": "c134108b",
   "metadata": {},
   "outputs": [],
   "source": []
  },
  {
   "cell_type": "code",
   "execution_count": 12,
   "id": "1eb41e44",
   "metadata": {},
   "outputs": [],
   "source": [
    "df = pd.read_csv('../blast/output.csv', names = ['Test', 'Train', 'Sequence Identity', \n",
    "                                                'Length', 'Mismatches', 'Gap Openings', 'Query start', \n",
    "                                                'Query end', 'Index start', 'Index end', 'e value', 'bit score'])\n",
    "\n",
    "idx = df.groupby(['Test'])['Sequence Identity'].transform(max) == df['Sequence Identity']\n",
    "r = df[idx].drop_duplicates(['Test'])\n",
    "r['test_normal'] = ~r['Test'].str.contains('autoimmune')\n",
    "r['train_normal'] = ~r['Test'].str.contains('autoimmune')\n",
    "r['Test UniProt ID'] = r['Test'].str.split('-').str[0]\n",
    "r['Test Name'] = r['Test UniProt ID'].map(id_to_name_map)\n",
    "r['Train UniProt ID'] = r['Train'].str.split('-').str[0]\n",
    "r['Train Name'] = r['Train UniProt ID'].map(id_to_name_map)\n",
    "r['correct'] = r['Test'].str.split('-').str[1] == r['Train'].str.split('-').str[1]\n",
    "\n",
    "ai_test = r[~r['test_normal']]\n",
    "normal_test = r[r['test_normal']]"
   ]
  },
  {
   "cell_type": "code",
   "execution_count": null,
   "id": "dd5a6332",
   "metadata": {},
   "outputs": [],
   "source": []
  },
  {
   "cell_type": "code",
   "execution_count": 16,
   "id": "f7647f28",
   "metadata": {},
   "outputs": [],
   "source": [
    "r.to_csv('../data/seq_id.csv')"
   ]
  },
  {
   "cell_type": "code",
   "execution_count": 14,
   "id": "5f1c03c5",
   "metadata": {},
   "outputs": [],
   "source": [
    "r = pd.read_csv('BLAST_results.csv')"
   ]
  },
  {
   "cell_type": "code",
   "execution_count": 22,
   "id": "f4bf2258",
   "metadata": {},
   "outputs": [
    {
     "data": {
      "application/vnd.plotly.v1+json": {
       "config": {
        "plotlyServerURL": "https://plot.ly"
       },
       "data": [
        {
         "customdata": [
          [
           101
          ],
          [
           100
          ],
          [
           99.782
          ],
          [
           99.751
          ],
          [
           99.686
          ],
          [
           99.684
          ],
          [
           99.659
          ],
          [
           99.636
          ],
          [
           99.329
          ],
          [
           99.306
          ],
          [
           99.167
          ],
          [
           99.145
          ],
          [
           99.103
          ],
          [
           99.057
          ],
          [
           98.954
          ],
          [
           98.933
          ],
          [
           98.614
          ],
          [
           98.582
          ],
          [
           98.431
          ],
          [
           98.413
          ],
          [
           98.16
          ],
          [
           98.095
          ],
          [
           98.065
          ],
          [
           97.975
          ],
          [
           96.654
          ],
          [
           96.581
          ],
          [
           96.449
          ],
          [
           96.429
          ],
          [
           95.767
          ],
          [
           95.763
          ],
          [
           95.522
          ],
          [
           95.37
          ],
          [
           95.045
          ],
          [
           95
          ],
          [
           94.059
          ],
          [
           93.981
          ],
          [
           93.767
          ],
          [
           93.75
          ],
          [
           93.487
          ],
          [
           93.396
          ],
          [
           93.226
          ],
          [
           93.182
          ],
          [
           92.765
          ],
          [
           92.76
          ],
          [
           92.317
          ],
          [
           92.308
          ],
          [
           91.798
          ],
          [
           91.795
          ],
          [
           91.765
          ],
          [
           91.667
          ],
          [
           91.077
          ],
          [
           90.909
          ],
          [
           90.69
          ],
          [
           90.598
          ],
          [
           90.566
          ],
          [
           90.476
          ],
          [
           90.189
          ],
          [
           90.152
          ],
          [
           90.068
          ],
          [
           90
          ],
          [
           89.202
          ],
          [
           89.098
          ],
          [
           88.991
          ],
          [
           88.889
          ],
          [
           88.158
          ],
          [
           88.095
          ],
          [
           88.091
          ],
          [
           87.553
          ],
          [
           87.5
          ],
          [
           86.504
          ],
          [
           86.486
          ],
          [
           86.243
          ],
          [
           86.207
          ],
          [
           85.87
          ],
          [
           85.825
          ],
          [
           85.714
          ],
          [
           84.672
          ],
          [
           84.615
          ],
          [
           83.41
          ],
          [
           83.333
          ],
          [
           82.366
          ],
          [
           82.353
          ],
          [
           82.069
          ],
          [
           82.039
          ],
          [
           81.873
          ],
          [
           81.818
          ],
          [
           81.282
          ],
          [
           81.25
          ],
          [
           81.197
          ],
          [
           81.176
          ],
          [
           80.064
          ],
          [
           80
          ],
          [
           78.632
          ],
          [
           78.571
          ],
          [
           77.885
          ],
          [
           77.778
          ],
          [
           77.13
          ],
          [
           76.923
          ],
          [
           76.481
          ],
          [
           76.471
          ],
          [
           75.463
          ],
          [
           75.439
          ],
          [
           75.032
          ],
          [
           75
          ],
          [
           73.922
          ],
          [
           73.913
          ],
          [
           73.72
          ],
          [
           73.684
          ],
          [
           73.352
          ],
          [
           73.333
          ],
          [
           73.171
          ],
          [
           72.778
          ],
          [
           72.727
          ],
          [
           72.249
          ],
          [
           72.222
          ],
          [
           72.163
          ],
          [
           72.089
          ],
          [
           72.034
          ],
          [
           72
          ],
          [
           71.875
          ],
          [
           71.818
          ],
          [
           71.475
          ],
          [
           71.429
          ],
          [
           71.154
          ],
          [
           71.117
          ],
          [
           70.915
          ],
          [
           70.909
          ],
          [
           70.642
          ],
          [
           70.588
          ],
          [
           70.39
          ],
          [
           70.37
          ],
          [
           70.13
          ],
          [
           70
          ],
          [
           69.512
          ],
          [
           69.492
          ],
          [
           69.239
          ],
          [
           69.231
          ],
          [
           68.796
          ],
          [
           68.75
          ],
          [
           68.438
          ],
          [
           68.421
          ],
          [
           68.304
          ],
          [
           68.254
          ],
          [
           68.24
          ],
          [
           68.182
          ],
          [
           68.085
          ],
          [
           68
          ],
          [
           67.56
          ],
          [
           67.544
          ],
          [
           67.47
          ],
          [
           67.442
          ],
          [
           67.2
          ],
          [
           67.147
          ],
          [
           67.063
          ],
          [
           67.045
          ],
          [
           66.947
          ],
          [
           66.926
          ],
          [
           66.805
          ],
          [
           66.667
          ],
          [
           66.362
          ],
          [
           66.359
          ],
          [
           65.915
          ],
          [
           65.905
          ],
          [
           65.242
          ],
          [
           65.217
          ],
          [
           65.13
          ],
          [
           65.116
          ],
          [
           65.035
          ],
          [
           65
          ],
          [
           64.982
          ],
          [
           64.742
          ],
          [
           64.706
          ],
          [
           64.31
          ],
          [
           64.286
          ],
          [
           64.103
          ],
          [
           64
          ],
          [
           63.674
          ],
          [
           63.636
          ],
          [
           63.478
          ],
          [
           63.462
          ],
          [
           63.192
          ],
          [
           63.158
          ],
          [
           63.005
          ],
          [
           62.963
          ],
          [
           62.925
          ],
          [
           62.857
          ],
          [
           62.698
          ],
          [
           62.5
          ],
          [
           62.371
          ],
          [
           62.319
          ],
          [
           62.193
          ],
          [
           62.069
          ],
          [
           61.972
          ],
          [
           61.905
          ],
          [
           61.806
          ],
          [
           61.765
          ],
          [
           61.667
          ],
          [
           61.538
          ],
          [
           61.194
          ],
          [
           61.111
          ],
          [
           60.879
          ],
          [
           60.87
          ],
          [
           60.773
          ],
          [
           60.714
          ],
          [
           60.674
          ],
          [
           60.534
          ],
          [
           60.526
          ],
          [
           60.028
          ],
          [
           60
          ],
          [
           59.386
          ],
          [
           59.375
          ],
          [
           59.283
          ],
          [
           59.259
          ],
          [
           59.098
          ],
          [
           59.091
          ],
          [
           58.96
          ],
          [
           58.932
          ],
          [
           58.871
          ],
          [
           58.824
          ],
          [
           58.344
          ],
          [
           58.333
          ],
          [
           58.108
          ],
          [
           58.065
          ],
          [
           57.944
          ],
          [
           57.895
          ],
          [
           57.708
          ],
          [
           57.692
          ],
          [
           57.592
          ],
          [
           57.576
          ],
          [
           57.151
          ],
          [
           57.143
          ],
          [
           56.546
          ],
          [
           56.522
          ],
          [
           56.334
          ],
          [
           56.322
          ],
          [
           56.319
          ],
          [
           56.25
          ],
          [
           56.034
          ],
          [
           56
          ],
          [
           55.615
          ],
          [
           55.556
          ],
          [
           55.25
          ],
          [
           55.172
          ],
          [
           55.114
          ],
          [
           55
          ],
          [
           54.859
          ],
          [
           54.839
          ],
          [
           54.603
          ],
          [
           54.545
          ],
          [
           54.286
          ],
          [
           54.167
          ],
          [
           53.882
          ],
          [
           53.846
          ],
          [
           53.652
          ],
          [
           53.571
          ],
          [
           53.403
          ],
          [
           53.333
          ],
          [
           53.155
          ],
          [
           53.125
          ],
          [
           53.009
          ],
          [
           52.941
          ],
          [
           52.639
          ],
          [
           52.632
          ],
          [
           52.495
          ],
          [
           52.381
          ],
          [
           52.273
          ],
          [
           52.174
          ],
          [
           52.058
          ],
          [
           52
          ],
          [
           51.883
          ],
          [
           51.852
          ],
          [
           51.842
          ],
          [
           51.724
          ],
          [
           51.695
          ],
          [
           51.613
          ],
          [
           51.515
          ],
          [
           51.429
          ],
          [
           51.282
          ],
          [
           50.122
          ],
          [
           50
          ],
          [
           48.837
          ],
          [
           48.78
          ],
          [
           48.571
          ],
          [
           48.485
          ],
          [
           48.387
          ],
          [
           48.276
          ],
          [
           48.148
          ],
          [
           48.077
          ],
          [
           48
          ],
          [
           47.848
          ],
          [
           47.826
          ],
          [
           47.625
          ],
          [
           47.619
          ],
          [
           47.485
          ],
          [
           47.368
          ],
          [
           47.222
          ],
          [
           47.059
          ],
          [
           46.875
          ],
          [
           46.667
          ],
          [
           46.512
          ],
          [
           46.429
          ],
          [
           46.341
          ],
          [
           46.154
          ],
          [
           45.946
          ],
          [
           45.833
          ],
          [
           45.588
          ],
          [
           45.455
          ],
          [
           45.246
          ],
          [
           45.161
          ],
          [
           45
          ],
          [
           44.737
          ],
          [
           44.444
          ],
          [
           44
          ],
          [
           43.75
          ],
          [
           43.333
          ],
          [
           43.243
          ],
          [
           42.857
          ],
          [
           42.105
          ],
          [
           41.935
          ],
          [
           34.043
          ]
         ],
         "fillpattern": {
          "shape": ""
         },
         "hovertemplate": "FPR=%{x}<br>TPR=%{y}<br>Threshold=%{customdata[0]}<extra></extra>",
         "legendgroup": "",
         "line": {
          "color": "#636efa"
         },
         "marker": {
          "symbol": "circle"
         },
         "mode": "lines",
         "name": "",
         "orientation": "v",
         "showlegend": false,
         "stackgroup": "1",
         "type": "scatter",
         "x": [
          0,
          0.01594022415940224,
          0.016936488169364883,
          0.017434620174346202,
          0.01818181818181818,
          0.0186799501867995,
          0.018929016189290163,
          0.019427148194271483,
          0.02266500622665006,
          0.023163138231631384,
          0.024906600249066,
          0.026151930261519303,
          0.026650062266500622,
          0.02714819427148194,
          0.028144458281444584,
          0.028144458281444584,
          0.030884184308841843,
          0.030884184308841843,
          0.03212951432129514,
          0.03212951432129514,
          0.034122042341220425,
          0.034620174346201744,
          0.034869240348692404,
          0.03536737235367372,
          0.04184308841843088,
          0.043337484433374845,
          0.044084682440846824,
          0.044582814445828144,
          0.048069738480697385,
          0.048567870485678705,
          0.049315068493150684,
          0.049813200498132,
          0.05180572851805729,
          0.052303860523038606,
          0.057036114570361146,
          0.057036114570361146,
          0.05927770859277708,
          0.05977584059775841,
          0.06077210460772105,
          0.06127023661270237,
          0.06251556662515567,
          0.06301369863013699,
          0.06500622665006227,
          0.06500622665006227,
          0.06724782067247821,
          0.06799501867995018,
          0.07098381070983811,
          0.07148194271481943,
          0.07173100871731009,
          0.07272727272727272,
          0.0759651307596513,
          0.07721046077210461,
          0.07820672478206725,
          0.07920298879202989,
          0.07995018679950187,
          0.0804483188044832,
          0.08144458281444583,
          0.08144458281444583,
          0.0821917808219178,
          0.08642590286425902,
          0.08991282689912827,
          0.08991282689912827,
          0.09016189290161893,
          0.0941469489414695,
          0.0978829389788294,
          0.09838107098381071,
          0.09838107098381071,
          0.10062266500622664,
          0.10485678704856786,
          0.10759651307596513,
          0.10809464508094645,
          0.10859277708592777,
          0.10909090909090909,
          0.11008717310087172,
          0.11058530510585306,
          0.11282689912826899,
          0.1178082191780822,
          0.11980074719800747,
          0.12577833125778332,
          0.13175591531755915,
          0.13599003735990037,
          0.1364881693648817,
          0.13798256537982564,
          0.13798256537982564,
          0.13848069738480698,
          0.14495641344956414,
          0.14869240348692403,
          0.14968866749688667,
          0.14993773349937733,
          0.14993773349937733,
          0.15790784557907844,
          0.16861768368617683,
          0.17434620174346202,
          0.17907845579078455,
          0.18405977584059777,
          0.19103362391033624,
          0.19452054794520549,
          0.20348692403486923,
          0.20647571606475715,
          0.20797011207970112,
          0.21344956413449565,
          0.21394769613947695,
          0.2156911581569116,
          0.2356164383561644,
          0.24259028642590286,
          0.2430884184308842,
          0.24533001245330013,
          0.24632627646326277,
          0.24906600249066002,
          0.2572851805728518,
          0.2580323785803238,
          0.26201743462017435,
          0.2774595267745953,
          0.2809464508094645,
          0.28393524283935245,
          0.2841843088418431,
          0.2841843088418431,
          0.2846824408468244,
          0.28567870485678704,
          0.28617683686176837,
          0.28717310087173104,
          0.2899128268991283,
          0.3028642590286426,
          0.3046077210460772,
          0.3046077210460772,
          0.30635118306351183,
          0.30684931506849317,
          0.30884184308841844,
          0.3140722291407223,
          0.3165628891656289,
          0.3173100871731009,
          0.32054794520547947,
          0.32602739726027397,
          0.3295143212951432,
          0.3300124533001245,
          0.3315068493150685,
          0.3519302615193026,
          0.35442092154420923,
          0.36936488169364884,
          0.3723536737235367,
          0.375093399750934,
          0.37608966376089664,
          0.376587795765878,
          0.3768368617683686,
          0.3778331257783313,
          0.37833125778331256,
          0.3788293897882939,
          0.3835616438356164,
          0.3838107098381071,
          0.38430884184308844,
          0.3848069738480697,
          0.38779576587795767,
          0.388293897882939,
          0.3887920298879203,
          0.38978829389788294,
          0.3905354919053549,
          0.3905354919053549,
          0.39103362391033625,
          0.4418430884184309,
          0.4435865504358655,
          0.4435865504358655,
          0.44707347447073476,
          0.44707347447073476,
          0.45280199252801995,
          0.45404732254047325,
          0.4542963885429639,
          0.45504358655043586,
          0.4555417185554172,
          0.4602739726027397,
          0.46077210460772106,
          0.4635118306351183,
          0.4784557907845579,
          0.48194271481942713,
          0.5028642590286426,
          0.5038605230386052,
          0.5048567870485678,
          0.5061021170610212,
          0.5155666251556662,
          0.5170610211706103,
          0.5175591531755915,
          0.5198007471980075,
          0.5270236612702366,
          0.5280199252801993,
          0.5280199252801993,
          0.5282689912826899,
          0.5287671232876713,
          0.5312577833125778,
          0.5589041095890411,
          0.5594022415940224,
          0.5599003735990037,
          0.5606475716064757,
          0.561145703611457,
          0.5621419676214197,
          0.5703611457036114,
          0.5723536737235367,
          0.572851805728518,
          0.57359900373599,
          0.5877957658779577,
          0.5897882938978829,
          0.6074719800747198,
          0.6082191780821918,
          0.6114570361145704,
          0.6119551681195516,
          0.613200498132005,
          0.6136986301369863,
          0.6144458281444583,
          0.6149439601494396,
          0.6189290161892902,
          0.65280199252802,
          0.6555417185554172,
          0.6560398505603985,
          0.6570361145703612,
          0.6585305105853051,
          0.6597758405977584,
          0.6662515566625156,
          0.6679950186799501,
          0.6679950186799501,
          0.6684931506849315,
          0.6926525529265255,
          0.6963885429638854,
          0.7028642590286426,
          0.7046077210460772,
          0.7051058530510586,
          0.7063511830635119,
          0.7247820672478207,
          0.726027397260274,
          0.7275217932752179,
          0.7277708592777086,
          0.72826899128269,
          0.7300124533001245,
          0.748692403486924,
          0.7514321295143213,
          0.7576587795765878,
          0.7581569115815692,
          0.7581569115815692,
          0.7584059775840598,
          0.7738480697384807,
          0.7745952677459527,
          0.7768368617683686,
          0.7808219178082192,
          0.8009962640099626,
          0.8037359900373598,
          0.8054794520547945,
          0.8057285180572852,
          0.8221668742216688,
          0.8224159402241594,
          0.8231631382316313,
          0.824159402241594,
          0.8351183063511831,
          0.8366127023661271,
          0.8420921544209216,
          0.8438356164383561,
          0.8493150684931506,
          0.8503113325031133,
          0.8525529265255293,
          0.8530510585305106,
          0.8592777085927771,
          0.8597758405977584,
          0.8605230386052304,
          0.8605230386052304,
          0.8712328767123287,
          0.8722291407222914,
          0.8846824408468245,
          0.885678704856787,
          0.8946450809464508,
          0.8951432129514322,
          0.9043586550435866,
          0.9046077210460772,
          0.9088418430884184,
          0.9095890410958904,
          0.9130759651307596,
          0.9133250311332504,
          0.9148194271481943,
          0.915068493150685,
          0.9180572851805728,
          0.9188044831880449,
          0.9193026151930261,
          0.9198007471980074,
          0.9227895392278954,
          0.9584059775840598,
          0.9594022415940224,
          0.9601494396014943,
          0.9608966376089664,
          0.9621419676214197,
          0.9638854296388543,
          0.9653798256537982,
          0.9671232876712329,
          0.9676214196762142,
          0.9706102117061021,
          0.9713574097135741,
          0.9740971357409713,
          0.9745952677459527,
          0.976587795765878,
          0.9770859277708592,
          0.9778331257783313,
          0.9780821917808219,
          0.9788293897882939,
          0.9798256537982566,
          0.9803237858032379,
          0.9805728518057285,
          0.9828144458281445,
          0.9830635118306351,
          0.9853051058530511,
          0.9855541718555417,
          0.9885429638854296,
          0.989041095890411,
          0.9900373599003736,
          0.9902864259028643,
          0.9910336239103362,
          0.9920298879202989,
          0.9925280199252802,
          0.9942714819427149,
          0.9947696139476961,
          0.9955168119551682,
          0.9965130759651307,
          0.9967621419676215,
          0.9972602739726028,
          0.9975093399750934,
          0.9980074719800747,
          1
         ],
         "xaxis": "x",
         "y": [
          0,
          0.01639344262295082,
          0.01639344262295082,
          0.01639344262295082,
          0.01639344262295082,
          0.01639344262295082,
          0.01639344262295082,
          0.01639344262295082,
          0.01639344262295082,
          0.01639344262295082,
          0.01639344262295082,
          0.01639344262295082,
          0.01639344262295082,
          0.01639344262295082,
          0.01639344262295082,
          0.03278688524590164,
          0.03278688524590164,
          0.04918032786885246,
          0.04918032786885246,
          0.06557377049180328,
          0.06557377049180328,
          0.06557377049180328,
          0.06557377049180328,
          0.06557377049180328,
          0.06557377049180328,
          0.06557377049180328,
          0.06557377049180328,
          0.06557377049180328,
          0.06557377049180328,
          0.06557377049180328,
          0.06557377049180328,
          0.06557377049180328,
          0.06557377049180328,
          0.06557377049180328,
          0.06557377049180328,
          0.08196721311475409,
          0.08196721311475409,
          0.08196721311475409,
          0.08196721311475409,
          0.08196721311475409,
          0.08196721311475409,
          0.08196721311475409,
          0.08196721311475409,
          0.09836065573770492,
          0.09836065573770492,
          0.09836065573770492,
          0.09836065573770492,
          0.09836065573770492,
          0.09836065573770492,
          0.09836065573770492,
          0.09836065573770492,
          0.09836065573770492,
          0.09836065573770492,
          0.09836065573770492,
          0.09836065573770492,
          0.09836065573770492,
          0.09836065573770492,
          0.11475409836065574,
          0.11475409836065574,
          0.11475409836065574,
          0.11475409836065574,
          0.13114754098360656,
          0.13114754098360656,
          0.13114754098360656,
          0.13114754098360656,
          0.13114754098360656,
          0.14754098360655737,
          0.14754098360655737,
          0.14754098360655737,
          0.14754098360655737,
          0.14754098360655737,
          0.14754098360655737,
          0.16393442622950818,
          0.16393442622950818,
          0.16393442622950818,
          0.16393442622950818,
          0.16393442622950818,
          0.16393442622950818,
          0.16393442622950818,
          0.16393442622950818,
          0.16393442622950818,
          0.16393442622950818,
          0.16393442622950818,
          0.18032786885245902,
          0.18032786885245902,
          0.18032786885245902,
          0.18032786885245902,
          0.18032786885245902,
          0.18032786885245902,
          0.19672131147540983,
          0.19672131147540983,
          0.19672131147540983,
          0.19672131147540983,
          0.19672131147540983,
          0.19672131147540983,
          0.19672131147540983,
          0.19672131147540983,
          0.19672131147540983,
          0.19672131147540983,
          0.19672131147540983,
          0.19672131147540983,
          0.19672131147540983,
          0.19672131147540983,
          0.22950819672131148,
          0.22950819672131148,
          0.2459016393442623,
          0.2459016393442623,
          0.26229508196721313,
          0.26229508196721313,
          0.26229508196721313,
          0.26229508196721313,
          0.26229508196721313,
          0.26229508196721313,
          0.26229508196721313,
          0.2786885245901639,
          0.2786885245901639,
          0.29508196721311475,
          0.29508196721311475,
          0.29508196721311475,
          0.29508196721311475,
          0.29508196721311475,
          0.29508196721311475,
          0.29508196721311475,
          0.29508196721311475,
          0.3114754098360656,
          0.3114754098360656,
          0.3114754098360656,
          0.3114754098360656,
          0.32786885245901637,
          0.32786885245901637,
          0.32786885245901637,
          0.32786885245901637,
          0.32786885245901637,
          0.32786885245901637,
          0.32786885245901637,
          0.32786885245901637,
          0.36065573770491804,
          0.36065573770491804,
          0.36065573770491804,
          0.36065573770491804,
          0.36065573770491804,
          0.36065573770491804,
          0.36065573770491804,
          0.36065573770491804,
          0.36065573770491804,
          0.36065573770491804,
          0.36065573770491804,
          0.36065573770491804,
          0.3770491803278688,
          0.3770491803278688,
          0.3770491803278688,
          0.3770491803278688,
          0.3770491803278688,
          0.3770491803278688,
          0.3770491803278688,
          0.3770491803278688,
          0.39344262295081966,
          0.39344262295081966,
          0.47540983606557374,
          0.47540983606557374,
          0.4918032786885246,
          0.4918032786885246,
          0.5081967213114754,
          0.5081967213114754,
          0.5081967213114754,
          0.5081967213114754,
          0.5081967213114754,
          0.5081967213114754,
          0.5081967213114754,
          0.5081967213114754,
          0.5081967213114754,
          0.5081967213114754,
          0.5081967213114754,
          0.5245901639344263,
          0.5245901639344263,
          0.5245901639344263,
          0.5245901639344263,
          0.5245901639344263,
          0.5245901639344263,
          0.5245901639344263,
          0.5245901639344263,
          0.5245901639344263,
          0.5245901639344263,
          0.5409836065573771,
          0.5409836065573771,
          0.5409836065573771,
          0.5409836065573771,
          0.5573770491803278,
          0.5573770491803278,
          0.5573770491803278,
          0.5573770491803278,
          0.5573770491803278,
          0.5573770491803278,
          0.5573770491803278,
          0.5573770491803278,
          0.5573770491803278,
          0.5573770491803278,
          0.6065573770491803,
          0.6065573770491803,
          0.6229508196721312,
          0.6229508196721312,
          0.6229508196721312,
          0.6229508196721312,
          0.6229508196721312,
          0.6229508196721312,
          0.6229508196721312,
          0.6229508196721312,
          0.6229508196721312,
          0.6721311475409836,
          0.6721311475409836,
          0.6721311475409836,
          0.6721311475409836,
          0.6721311475409836,
          0.6721311475409836,
          0.6885245901639344,
          0.6885245901639344,
          0.7049180327868853,
          0.7049180327868853,
          0.7049180327868853,
          0.7049180327868853,
          0.7049180327868853,
          0.7049180327868853,
          0.7049180327868853,
          0.7049180327868853,
          0.7213114754098361,
          0.7213114754098361,
          0.7377049180327869,
          0.7377049180327869,
          0.7377049180327869,
          0.7377049180327869,
          0.7377049180327869,
          0.7377049180327869,
          0.7540983606557377,
          0.7540983606557377,
          0.7704918032786885,
          0.7704918032786885,
          0.7704918032786885,
          0.7704918032786885,
          0.7704918032786885,
          0.7704918032786885,
          0.8032786885245902,
          0.8032786885245902,
          0.8032786885245902,
          0.8032786885245902,
          0.8032786885245902,
          0.8032786885245902,
          0.8032786885245902,
          0.8032786885245902,
          0.8360655737704918,
          0.8360655737704918,
          0.8360655737704918,
          0.8360655737704918,
          0.8360655737704918,
          0.8360655737704918,
          0.8360655737704918,
          0.8360655737704918,
          0.8360655737704918,
          0.8360655737704918,
          0.8360655737704918,
          0.8524590163934426,
          0.8688524590163934,
          0.8688524590163934,
          0.8688524590163934,
          0.8688524590163934,
          0.8688524590163934,
          0.8688524590163934,
          0.8852459016393442,
          0.8852459016393442,
          0.8852459016393442,
          0.8852459016393442,
          0.8852459016393442,
          0.8852459016393442,
          0.8852459016393442,
          0.8852459016393442,
          0.8852459016393442,
          0.8852459016393442,
          0.8852459016393442,
          0.8852459016393442,
          0.8852459016393442,
          0.9836065573770492,
          0.9836065573770492,
          0.9836065573770492,
          0.9836065573770492,
          0.9836065573770492,
          0.9836065573770492,
          0.9836065573770492,
          0.9836065573770492,
          0.9836065573770492,
          0.9836065573770492,
          0.9836065573770492,
          0.9836065573770492,
          0.9836065573770492,
          0.9836065573770492,
          0.9836065573770492,
          1,
          1,
          1,
          1,
          1,
          1,
          1,
          1,
          1,
          1,
          1,
          1,
          1,
          1,
          1,
          1,
          1,
          1,
          1,
          1,
          1,
          1,
          1,
          1,
          1,
          1
         ],
         "yaxis": "y"
        }
       ],
       "layout": {
        "annotations": [
         {
          "showarrow": false,
          "text": "AUC=0.51",
          "x": 0.5,
          "y": 0.4
         }
        ],
        "height": 600,
        "legend": {
         "tracegroupgap": 0
        },
        "shapes": [
         {
          "line": {
           "dash": "dash"
          },
          "type": "line",
          "x0": 0,
          "x1": 1,
          "y0": 0,
          "y1": 1
         }
        ],
        "template": {
         "data": {
          "bar": [
           {
            "error_x": {
             "color": "#2a3f5f"
            },
            "error_y": {
             "color": "#2a3f5f"
            },
            "marker": {
             "line": {
              "color": "#E5ECF6",
              "width": 0.5
             },
             "pattern": {
              "fillmode": "overlay",
              "size": 10,
              "solidity": 0.2
             }
            },
            "type": "bar"
           }
          ],
          "barpolar": [
           {
            "marker": {
             "line": {
              "color": "#E5ECF6",
              "width": 0.5
             },
             "pattern": {
              "fillmode": "overlay",
              "size": 10,
              "solidity": 0.2
             }
            },
            "type": "barpolar"
           }
          ],
          "carpet": [
           {
            "aaxis": {
             "endlinecolor": "#2a3f5f",
             "gridcolor": "white",
             "linecolor": "white",
             "minorgridcolor": "white",
             "startlinecolor": "#2a3f5f"
            },
            "baxis": {
             "endlinecolor": "#2a3f5f",
             "gridcolor": "white",
             "linecolor": "white",
             "minorgridcolor": "white",
             "startlinecolor": "#2a3f5f"
            },
            "type": "carpet"
           }
          ],
          "choropleth": [
           {
            "colorbar": {
             "outlinewidth": 0,
             "ticks": ""
            },
            "type": "choropleth"
           }
          ],
          "contour": [
           {
            "colorbar": {
             "outlinewidth": 0,
             "ticks": ""
            },
            "colorscale": [
             [
              0,
              "#0d0887"
             ],
             [
              0.1111111111111111,
              "#46039f"
             ],
             [
              0.2222222222222222,
              "#7201a8"
             ],
             [
              0.3333333333333333,
              "#9c179e"
             ],
             [
              0.4444444444444444,
              "#bd3786"
             ],
             [
              0.5555555555555556,
              "#d8576b"
             ],
             [
              0.6666666666666666,
              "#ed7953"
             ],
             [
              0.7777777777777778,
              "#fb9f3a"
             ],
             [
              0.8888888888888888,
              "#fdca26"
             ],
             [
              1,
              "#f0f921"
             ]
            ],
            "type": "contour"
           }
          ],
          "contourcarpet": [
           {
            "colorbar": {
             "outlinewidth": 0,
             "ticks": ""
            },
            "type": "contourcarpet"
           }
          ],
          "heatmap": [
           {
            "colorbar": {
             "outlinewidth": 0,
             "ticks": ""
            },
            "colorscale": [
             [
              0,
              "#0d0887"
             ],
             [
              0.1111111111111111,
              "#46039f"
             ],
             [
              0.2222222222222222,
              "#7201a8"
             ],
             [
              0.3333333333333333,
              "#9c179e"
             ],
             [
              0.4444444444444444,
              "#bd3786"
             ],
             [
              0.5555555555555556,
              "#d8576b"
             ],
             [
              0.6666666666666666,
              "#ed7953"
             ],
             [
              0.7777777777777778,
              "#fb9f3a"
             ],
             [
              0.8888888888888888,
              "#fdca26"
             ],
             [
              1,
              "#f0f921"
             ]
            ],
            "type": "heatmap"
           }
          ],
          "heatmapgl": [
           {
            "colorbar": {
             "outlinewidth": 0,
             "ticks": ""
            },
            "colorscale": [
             [
              0,
              "#0d0887"
             ],
             [
              0.1111111111111111,
              "#46039f"
             ],
             [
              0.2222222222222222,
              "#7201a8"
             ],
             [
              0.3333333333333333,
              "#9c179e"
             ],
             [
              0.4444444444444444,
              "#bd3786"
             ],
             [
              0.5555555555555556,
              "#d8576b"
             ],
             [
              0.6666666666666666,
              "#ed7953"
             ],
             [
              0.7777777777777778,
              "#fb9f3a"
             ],
             [
              0.8888888888888888,
              "#fdca26"
             ],
             [
              1,
              "#f0f921"
             ]
            ],
            "type": "heatmapgl"
           }
          ],
          "histogram": [
           {
            "marker": {
             "pattern": {
              "fillmode": "overlay",
              "size": 10,
              "solidity": 0.2
             }
            },
            "type": "histogram"
           }
          ],
          "histogram2d": [
           {
            "colorbar": {
             "outlinewidth": 0,
             "ticks": ""
            },
            "colorscale": [
             [
              0,
              "#0d0887"
             ],
             [
              0.1111111111111111,
              "#46039f"
             ],
             [
              0.2222222222222222,
              "#7201a8"
             ],
             [
              0.3333333333333333,
              "#9c179e"
             ],
             [
              0.4444444444444444,
              "#bd3786"
             ],
             [
              0.5555555555555556,
              "#d8576b"
             ],
             [
              0.6666666666666666,
              "#ed7953"
             ],
             [
              0.7777777777777778,
              "#fb9f3a"
             ],
             [
              0.8888888888888888,
              "#fdca26"
             ],
             [
              1,
              "#f0f921"
             ]
            ],
            "type": "histogram2d"
           }
          ],
          "histogram2dcontour": [
           {
            "colorbar": {
             "outlinewidth": 0,
             "ticks": ""
            },
            "colorscale": [
             [
              0,
              "#0d0887"
             ],
             [
              0.1111111111111111,
              "#46039f"
             ],
             [
              0.2222222222222222,
              "#7201a8"
             ],
             [
              0.3333333333333333,
              "#9c179e"
             ],
             [
              0.4444444444444444,
              "#bd3786"
             ],
             [
              0.5555555555555556,
              "#d8576b"
             ],
             [
              0.6666666666666666,
              "#ed7953"
             ],
             [
              0.7777777777777778,
              "#fb9f3a"
             ],
             [
              0.8888888888888888,
              "#fdca26"
             ],
             [
              1,
              "#f0f921"
             ]
            ],
            "type": "histogram2dcontour"
           }
          ],
          "mesh3d": [
           {
            "colorbar": {
             "outlinewidth": 0,
             "ticks": ""
            },
            "type": "mesh3d"
           }
          ],
          "parcoords": [
           {
            "line": {
             "colorbar": {
              "outlinewidth": 0,
              "ticks": ""
             }
            },
            "type": "parcoords"
           }
          ],
          "pie": [
           {
            "automargin": true,
            "type": "pie"
           }
          ],
          "scatter": [
           {
            "fillpattern": {
             "fillmode": "overlay",
             "size": 10,
             "solidity": 0.2
            },
            "type": "scatter"
           }
          ],
          "scatter3d": [
           {
            "line": {
             "colorbar": {
              "outlinewidth": 0,
              "ticks": ""
             }
            },
            "marker": {
             "colorbar": {
              "outlinewidth": 0,
              "ticks": ""
             }
            },
            "type": "scatter3d"
           }
          ],
          "scattercarpet": [
           {
            "marker": {
             "colorbar": {
              "outlinewidth": 0,
              "ticks": ""
             }
            },
            "type": "scattercarpet"
           }
          ],
          "scattergeo": [
           {
            "marker": {
             "colorbar": {
              "outlinewidth": 0,
              "ticks": ""
             }
            },
            "type": "scattergeo"
           }
          ],
          "scattergl": [
           {
            "marker": {
             "colorbar": {
              "outlinewidth": 0,
              "ticks": ""
             }
            },
            "type": "scattergl"
           }
          ],
          "scattermapbox": [
           {
            "marker": {
             "colorbar": {
              "outlinewidth": 0,
              "ticks": ""
             }
            },
            "type": "scattermapbox"
           }
          ],
          "scatterpolar": [
           {
            "marker": {
             "colorbar": {
              "outlinewidth": 0,
              "ticks": ""
             }
            },
            "type": "scatterpolar"
           }
          ],
          "scatterpolargl": [
           {
            "marker": {
             "colorbar": {
              "outlinewidth": 0,
              "ticks": ""
             }
            },
            "type": "scatterpolargl"
           }
          ],
          "scatterternary": [
           {
            "marker": {
             "colorbar": {
              "outlinewidth": 0,
              "ticks": ""
             }
            },
            "type": "scatterternary"
           }
          ],
          "surface": [
           {
            "colorbar": {
             "outlinewidth": 0,
             "ticks": ""
            },
            "colorscale": [
             [
              0,
              "#0d0887"
             ],
             [
              0.1111111111111111,
              "#46039f"
             ],
             [
              0.2222222222222222,
              "#7201a8"
             ],
             [
              0.3333333333333333,
              "#9c179e"
             ],
             [
              0.4444444444444444,
              "#bd3786"
             ],
             [
              0.5555555555555556,
              "#d8576b"
             ],
             [
              0.6666666666666666,
              "#ed7953"
             ],
             [
              0.7777777777777778,
              "#fb9f3a"
             ],
             [
              0.8888888888888888,
              "#fdca26"
             ],
             [
              1,
              "#f0f921"
             ]
            ],
            "type": "surface"
           }
          ],
          "table": [
           {
            "cells": {
             "fill": {
              "color": "#EBF0F8"
             },
             "line": {
              "color": "white"
             }
            },
            "header": {
             "fill": {
              "color": "#C8D4E3"
             },
             "line": {
              "color": "white"
             }
            },
            "type": "table"
           }
          ]
         },
         "layout": {
          "annotationdefaults": {
           "arrowcolor": "#2a3f5f",
           "arrowhead": 0,
           "arrowwidth": 1
          },
          "autotypenumbers": "strict",
          "coloraxis": {
           "colorbar": {
            "outlinewidth": 0,
            "ticks": ""
           }
          },
          "colorscale": {
           "diverging": [
            [
             0,
             "#8e0152"
            ],
            [
             0.1,
             "#c51b7d"
            ],
            [
             0.2,
             "#de77ae"
            ],
            [
             0.3,
             "#f1b6da"
            ],
            [
             0.4,
             "#fde0ef"
            ],
            [
             0.5,
             "#f7f7f7"
            ],
            [
             0.6,
             "#e6f5d0"
            ],
            [
             0.7,
             "#b8e186"
            ],
            [
             0.8,
             "#7fbc41"
            ],
            [
             0.9,
             "#4d9221"
            ],
            [
             1,
             "#276419"
            ]
           ],
           "sequential": [
            [
             0,
             "#0d0887"
            ],
            [
             0.1111111111111111,
             "#46039f"
            ],
            [
             0.2222222222222222,
             "#7201a8"
            ],
            [
             0.3333333333333333,
             "#9c179e"
            ],
            [
             0.4444444444444444,
             "#bd3786"
            ],
            [
             0.5555555555555556,
             "#d8576b"
            ],
            [
             0.6666666666666666,
             "#ed7953"
            ],
            [
             0.7777777777777778,
             "#fb9f3a"
            ],
            [
             0.8888888888888888,
             "#fdca26"
            ],
            [
             1,
             "#f0f921"
            ]
           ],
           "sequentialminus": [
            [
             0,
             "#0d0887"
            ],
            [
             0.1111111111111111,
             "#46039f"
            ],
            [
             0.2222222222222222,
             "#7201a8"
            ],
            [
             0.3333333333333333,
             "#9c179e"
            ],
            [
             0.4444444444444444,
             "#bd3786"
            ],
            [
             0.5555555555555556,
             "#d8576b"
            ],
            [
             0.6666666666666666,
             "#ed7953"
            ],
            [
             0.7777777777777778,
             "#fb9f3a"
            ],
            [
             0.8888888888888888,
             "#fdca26"
            ],
            [
             1,
             "#f0f921"
            ]
           ]
          },
          "colorway": [
           "#636efa",
           "#EF553B",
           "#00cc96",
           "#ab63fa",
           "#FFA15A",
           "#19d3f3",
           "#FF6692",
           "#B6E880",
           "#FF97FF",
           "#FECB52"
          ],
          "font": {
           "color": "#2a3f5f"
          },
          "geo": {
           "bgcolor": "white",
           "lakecolor": "white",
           "landcolor": "#E5ECF6",
           "showlakes": true,
           "showland": true,
           "subunitcolor": "white"
          },
          "hoverlabel": {
           "align": "left"
          },
          "hovermode": "closest",
          "mapbox": {
           "style": "light"
          },
          "paper_bgcolor": "white",
          "plot_bgcolor": "#E5ECF6",
          "polar": {
           "angularaxis": {
            "gridcolor": "white",
            "linecolor": "white",
            "ticks": ""
           },
           "bgcolor": "#E5ECF6",
           "radialaxis": {
            "gridcolor": "white",
            "linecolor": "white",
            "ticks": ""
           }
          },
          "scene": {
           "xaxis": {
            "backgroundcolor": "#E5ECF6",
            "gridcolor": "white",
            "gridwidth": 2,
            "linecolor": "white",
            "showbackground": true,
            "ticks": "",
            "zerolinecolor": "white"
           },
           "yaxis": {
            "backgroundcolor": "#E5ECF6",
            "gridcolor": "white",
            "gridwidth": 2,
            "linecolor": "white",
            "showbackground": true,
            "ticks": "",
            "zerolinecolor": "white"
           },
           "zaxis": {
            "backgroundcolor": "#E5ECF6",
            "gridcolor": "white",
            "gridwidth": 2,
            "linecolor": "white",
            "showbackground": true,
            "ticks": "",
            "zerolinecolor": "white"
           }
          },
          "shapedefaults": {
           "line": {
            "color": "#2a3f5f"
           }
          },
          "ternary": {
           "aaxis": {
            "gridcolor": "white",
            "linecolor": "white",
            "ticks": ""
           },
           "baxis": {
            "gridcolor": "white",
            "linecolor": "white",
            "ticks": ""
           },
           "bgcolor": "#E5ECF6",
           "caxis": {
            "gridcolor": "white",
            "linecolor": "white",
            "ticks": ""
           }
          },
          "title": {
           "x": 0.05
          },
          "xaxis": {
           "automargin": true,
           "gridcolor": "white",
           "linecolor": "white",
           "ticks": "",
           "title": {
            "standoff": 15
           },
           "zerolinecolor": "white",
           "zerolinewidth": 2
          },
          "yaxis": {
           "automargin": true,
           "gridcolor": "white",
           "linecolor": "white",
           "ticks": "",
           "title": {
            "standoff": 15
           },
           "zerolinecolor": "white",
           "zerolinewidth": 2
          }
         }
        },
        "title": {
         "text": "BLAST Model - Autoimmune Prediction"
        },
        "width": 600,
        "xaxis": {
         "anchor": "y",
         "domain": [
          0,
          1
         ],
         "title": {
          "text": "FPR"
         }
        },
        "yaxis": {
         "anchor": "x",
         "domain": [
          0,
          1
         ],
         "title": {
          "text": "TPR"
         }
        }
       }
      },
      "text/html": [
       "<div>                            <div id=\"b115c2c6-dab3-40f7-848b-7f67e25ffead\" class=\"plotly-graph-div\" style=\"height:600px; width:600px;\"></div>            <script type=\"text/javascript\">                require([\"plotly\"], function(Plotly) {                    window.PLOTLYENV=window.PLOTLYENV || {};                                    if (document.getElementById(\"b115c2c6-dab3-40f7-848b-7f67e25ffead\")) {                    Plotly.newPlot(                        \"b115c2c6-dab3-40f7-848b-7f67e25ffead\",                        [{\"customdata\":[[101.0],[100.0],[99.782],[99.751],[99.686],[99.684],[99.659],[99.636],[99.329],[99.306],[99.167],[99.145],[99.103],[99.057],[98.954],[98.933],[98.614],[98.582],[98.431],[98.413],[98.16],[98.095],[98.065],[97.975],[96.654],[96.581],[96.449],[96.429],[95.767],[95.763],[95.522],[95.37],[95.045],[95.0],[94.059],[93.981],[93.767],[93.75],[93.487],[93.396],[93.226],[93.182],[92.765],[92.76],[92.317],[92.308],[91.798],[91.795],[91.765],[91.667],[91.077],[90.909],[90.69],[90.598],[90.566],[90.476],[90.189],[90.152],[90.068],[90.0],[89.202],[89.098],[88.991],[88.889],[88.158],[88.095],[88.091],[87.553],[87.5],[86.504],[86.486],[86.243],[86.207],[85.87],[85.825],[85.714],[84.672],[84.615],[83.41],[83.333],[82.366],[82.353],[82.069],[82.039],[81.873],[81.818],[81.282],[81.25],[81.197],[81.176],[80.064],[80.0],[78.632],[78.571],[77.885],[77.778],[77.13],[76.923],[76.481],[76.471],[75.463],[75.439],[75.032],[75.0],[73.922],[73.913],[73.72],[73.684],[73.352],[73.333],[73.171],[72.778],[72.727],[72.249],[72.222],[72.163],[72.089],[72.034],[72.0],[71.875],[71.818],[71.475],[71.429],[71.154],[71.117],[70.915],[70.909],[70.642],[70.588],[70.39],[70.37],[70.13],[70.0],[69.512],[69.492],[69.239],[69.231],[68.796],[68.75],[68.438],[68.421],[68.304],[68.254],[68.24],[68.182],[68.085],[68.0],[67.56],[67.544],[67.47],[67.442],[67.2],[67.147],[67.063],[67.045],[66.947],[66.926],[66.805],[66.667],[66.362],[66.359],[65.915],[65.905],[65.242],[65.217],[65.13],[65.116],[65.035],[65.0],[64.982],[64.742],[64.706],[64.31],[64.286],[64.103],[64.0],[63.674],[63.636],[63.478],[63.462],[63.192],[63.158],[63.005],[62.963],[62.925],[62.857],[62.698],[62.5],[62.371],[62.319],[62.193],[62.069],[61.972],[61.905],[61.806],[61.765],[61.667],[61.538],[61.194],[61.111],[60.879],[60.87],[60.773],[60.714],[60.674],[60.534],[60.526],[60.028],[60.0],[59.386],[59.375],[59.283],[59.259],[59.098],[59.091],[58.96],[58.932],[58.871],[58.824],[58.344],[58.333],[58.108],[58.065],[57.944],[57.895],[57.708],[57.692],[57.592],[57.576],[57.151],[57.143],[56.546],[56.522],[56.334],[56.322],[56.319],[56.25],[56.034],[56.0],[55.615],[55.556],[55.25],[55.172],[55.114],[55.0],[54.859],[54.839],[54.603],[54.545],[54.286],[54.167],[53.882],[53.846],[53.652],[53.571],[53.403],[53.333],[53.155],[53.125],[53.009],[52.941],[52.639],[52.632],[52.495],[52.381],[52.273],[52.174],[52.058],[52.0],[51.883],[51.852],[51.842],[51.724],[51.695],[51.613],[51.515],[51.429],[51.282],[50.122],[50.0],[48.837],[48.78],[48.571],[48.485],[48.387],[48.276],[48.148],[48.077],[48.0],[47.848],[47.826],[47.625],[47.619],[47.485],[47.368],[47.222],[47.059],[46.875],[46.667],[46.512],[46.429],[46.341],[46.154],[45.946],[45.833],[45.588],[45.455],[45.246],[45.161],[45.0],[44.737],[44.444],[44.0],[43.75],[43.333],[43.243],[42.857],[42.105],[41.935],[34.043]],\"fillpattern\":{\"shape\":\"\"},\"hovertemplate\":\"FPR=%{x}<br>TPR=%{y}<br>Threshold=%{customdata[0]}<extra></extra>\",\"legendgroup\":\"\",\"line\":{\"color\":\"#636efa\"},\"marker\":{\"symbol\":\"circle\"},\"mode\":\"lines\",\"name\":\"\",\"orientation\":\"v\",\"showlegend\":false,\"stackgroup\":\"1\",\"x\":[0.0,0.01594022415940224,0.016936488169364883,0.017434620174346202,0.01818181818181818,0.0186799501867995,0.018929016189290163,0.019427148194271483,0.02266500622665006,0.023163138231631384,0.024906600249066,0.026151930261519303,0.026650062266500622,0.02714819427148194,0.028144458281444584,0.028144458281444584,0.030884184308841843,0.030884184308841843,0.03212951432129514,0.03212951432129514,0.034122042341220425,0.034620174346201744,0.034869240348692404,0.03536737235367372,0.04184308841843088,0.043337484433374845,0.044084682440846824,0.044582814445828144,0.048069738480697385,0.048567870485678705,0.049315068493150684,0.049813200498132,0.05180572851805729,0.052303860523038606,0.057036114570361146,0.057036114570361146,0.05927770859277708,0.05977584059775841,0.06077210460772105,0.06127023661270237,0.06251556662515567,0.06301369863013699,0.06500622665006227,0.06500622665006227,0.06724782067247821,0.06799501867995018,0.07098381070983811,0.07148194271481943,0.07173100871731009,0.07272727272727272,0.0759651307596513,0.07721046077210461,0.07820672478206725,0.07920298879202989,0.07995018679950187,0.0804483188044832,0.08144458281444583,0.08144458281444583,0.0821917808219178,0.08642590286425902,0.08991282689912827,0.08991282689912827,0.09016189290161893,0.0941469489414695,0.0978829389788294,0.09838107098381071,0.09838107098381071,0.10062266500622664,0.10485678704856786,0.10759651307596513,0.10809464508094645,0.10859277708592777,0.10909090909090909,0.11008717310087172,0.11058530510585306,0.11282689912826899,0.1178082191780822,0.11980074719800747,0.12577833125778332,0.13175591531755915,0.13599003735990037,0.1364881693648817,0.13798256537982564,0.13798256537982564,0.13848069738480698,0.14495641344956414,0.14869240348692403,0.14968866749688667,0.14993773349937733,0.14993773349937733,0.15790784557907844,0.16861768368617683,0.17434620174346202,0.17907845579078455,0.18405977584059777,0.19103362391033624,0.19452054794520549,0.20348692403486923,0.20647571606475715,0.20797011207970112,0.21344956413449565,0.21394769613947695,0.2156911581569116,0.2356164383561644,0.24259028642590286,0.2430884184308842,0.24533001245330013,0.24632627646326277,0.24906600249066002,0.2572851805728518,0.2580323785803238,0.26201743462017435,0.2774595267745953,0.2809464508094645,0.28393524283935245,0.2841843088418431,0.2841843088418431,0.2846824408468244,0.28567870485678704,0.28617683686176837,0.28717310087173104,0.2899128268991283,0.3028642590286426,0.3046077210460772,0.3046077210460772,0.30635118306351183,0.30684931506849317,0.30884184308841844,0.3140722291407223,0.3165628891656289,0.3173100871731009,0.32054794520547947,0.32602739726027397,0.3295143212951432,0.3300124533001245,0.3315068493150685,0.3519302615193026,0.35442092154420923,0.36936488169364884,0.3723536737235367,0.375093399750934,0.37608966376089664,0.376587795765878,0.3768368617683686,0.3778331257783313,0.37833125778331256,0.3788293897882939,0.3835616438356164,0.3838107098381071,0.38430884184308844,0.3848069738480697,0.38779576587795767,0.388293897882939,0.3887920298879203,0.38978829389788294,0.3905354919053549,0.3905354919053549,0.39103362391033625,0.4418430884184309,0.4435865504358655,0.4435865504358655,0.44707347447073476,0.44707347447073476,0.45280199252801995,0.45404732254047325,0.4542963885429639,0.45504358655043586,0.4555417185554172,0.4602739726027397,0.46077210460772106,0.4635118306351183,0.4784557907845579,0.48194271481942713,0.5028642590286426,0.5038605230386052,0.5048567870485678,0.5061021170610212,0.5155666251556662,0.5170610211706103,0.5175591531755915,0.5198007471980075,0.5270236612702366,0.5280199252801993,0.5280199252801993,0.5282689912826899,0.5287671232876713,0.5312577833125778,0.5589041095890411,0.5594022415940224,0.5599003735990037,0.5606475716064757,0.561145703611457,0.5621419676214197,0.5703611457036114,0.5723536737235367,0.572851805728518,0.57359900373599,0.5877957658779577,0.5897882938978829,0.6074719800747198,0.6082191780821918,0.6114570361145704,0.6119551681195516,0.613200498132005,0.6136986301369863,0.6144458281444583,0.6149439601494396,0.6189290161892902,0.65280199252802,0.6555417185554172,0.6560398505603985,0.6570361145703612,0.6585305105853051,0.6597758405977584,0.6662515566625156,0.6679950186799501,0.6679950186799501,0.6684931506849315,0.6926525529265255,0.6963885429638854,0.7028642590286426,0.7046077210460772,0.7051058530510586,0.7063511830635119,0.7247820672478207,0.726027397260274,0.7275217932752179,0.7277708592777086,0.72826899128269,0.7300124533001245,0.748692403486924,0.7514321295143213,0.7576587795765878,0.7581569115815692,0.7581569115815692,0.7584059775840598,0.7738480697384807,0.7745952677459527,0.7768368617683686,0.7808219178082192,0.8009962640099626,0.8037359900373598,0.8054794520547945,0.8057285180572852,0.8221668742216688,0.8224159402241594,0.8231631382316313,0.824159402241594,0.8351183063511831,0.8366127023661271,0.8420921544209216,0.8438356164383561,0.8493150684931506,0.8503113325031133,0.8525529265255293,0.8530510585305106,0.8592777085927771,0.8597758405977584,0.8605230386052304,0.8605230386052304,0.8712328767123287,0.8722291407222914,0.8846824408468245,0.885678704856787,0.8946450809464508,0.8951432129514322,0.9043586550435866,0.9046077210460772,0.9088418430884184,0.9095890410958904,0.9130759651307596,0.9133250311332504,0.9148194271481943,0.915068493150685,0.9180572851805728,0.9188044831880449,0.9193026151930261,0.9198007471980074,0.9227895392278954,0.9584059775840598,0.9594022415940224,0.9601494396014943,0.9608966376089664,0.9621419676214197,0.9638854296388543,0.9653798256537982,0.9671232876712329,0.9676214196762142,0.9706102117061021,0.9713574097135741,0.9740971357409713,0.9745952677459527,0.976587795765878,0.9770859277708592,0.9778331257783313,0.9780821917808219,0.9788293897882939,0.9798256537982566,0.9803237858032379,0.9805728518057285,0.9828144458281445,0.9830635118306351,0.9853051058530511,0.9855541718555417,0.9885429638854296,0.989041095890411,0.9900373599003736,0.9902864259028643,0.9910336239103362,0.9920298879202989,0.9925280199252802,0.9942714819427149,0.9947696139476961,0.9955168119551682,0.9965130759651307,0.9967621419676215,0.9972602739726028,0.9975093399750934,0.9980074719800747,1.0],\"xaxis\":\"x\",\"y\":[0.0,0.01639344262295082,0.01639344262295082,0.01639344262295082,0.01639344262295082,0.01639344262295082,0.01639344262295082,0.01639344262295082,0.01639344262295082,0.01639344262295082,0.01639344262295082,0.01639344262295082,0.01639344262295082,0.01639344262295082,0.01639344262295082,0.03278688524590164,0.03278688524590164,0.04918032786885246,0.04918032786885246,0.06557377049180328,0.06557377049180328,0.06557377049180328,0.06557377049180328,0.06557377049180328,0.06557377049180328,0.06557377049180328,0.06557377049180328,0.06557377049180328,0.06557377049180328,0.06557377049180328,0.06557377049180328,0.06557377049180328,0.06557377049180328,0.06557377049180328,0.06557377049180328,0.08196721311475409,0.08196721311475409,0.08196721311475409,0.08196721311475409,0.08196721311475409,0.08196721311475409,0.08196721311475409,0.08196721311475409,0.09836065573770492,0.09836065573770492,0.09836065573770492,0.09836065573770492,0.09836065573770492,0.09836065573770492,0.09836065573770492,0.09836065573770492,0.09836065573770492,0.09836065573770492,0.09836065573770492,0.09836065573770492,0.09836065573770492,0.09836065573770492,0.11475409836065574,0.11475409836065574,0.11475409836065574,0.11475409836065574,0.13114754098360656,0.13114754098360656,0.13114754098360656,0.13114754098360656,0.13114754098360656,0.14754098360655737,0.14754098360655737,0.14754098360655737,0.14754098360655737,0.14754098360655737,0.14754098360655737,0.16393442622950818,0.16393442622950818,0.16393442622950818,0.16393442622950818,0.16393442622950818,0.16393442622950818,0.16393442622950818,0.16393442622950818,0.16393442622950818,0.16393442622950818,0.16393442622950818,0.18032786885245902,0.18032786885245902,0.18032786885245902,0.18032786885245902,0.18032786885245902,0.18032786885245902,0.19672131147540983,0.19672131147540983,0.19672131147540983,0.19672131147540983,0.19672131147540983,0.19672131147540983,0.19672131147540983,0.19672131147540983,0.19672131147540983,0.19672131147540983,0.19672131147540983,0.19672131147540983,0.19672131147540983,0.19672131147540983,0.22950819672131148,0.22950819672131148,0.2459016393442623,0.2459016393442623,0.26229508196721313,0.26229508196721313,0.26229508196721313,0.26229508196721313,0.26229508196721313,0.26229508196721313,0.26229508196721313,0.2786885245901639,0.2786885245901639,0.29508196721311475,0.29508196721311475,0.29508196721311475,0.29508196721311475,0.29508196721311475,0.29508196721311475,0.29508196721311475,0.29508196721311475,0.3114754098360656,0.3114754098360656,0.3114754098360656,0.3114754098360656,0.32786885245901637,0.32786885245901637,0.32786885245901637,0.32786885245901637,0.32786885245901637,0.32786885245901637,0.32786885245901637,0.32786885245901637,0.36065573770491804,0.36065573770491804,0.36065573770491804,0.36065573770491804,0.36065573770491804,0.36065573770491804,0.36065573770491804,0.36065573770491804,0.36065573770491804,0.36065573770491804,0.36065573770491804,0.36065573770491804,0.3770491803278688,0.3770491803278688,0.3770491803278688,0.3770491803278688,0.3770491803278688,0.3770491803278688,0.3770491803278688,0.3770491803278688,0.39344262295081966,0.39344262295081966,0.47540983606557374,0.47540983606557374,0.4918032786885246,0.4918032786885246,0.5081967213114754,0.5081967213114754,0.5081967213114754,0.5081967213114754,0.5081967213114754,0.5081967213114754,0.5081967213114754,0.5081967213114754,0.5081967213114754,0.5081967213114754,0.5081967213114754,0.5245901639344263,0.5245901639344263,0.5245901639344263,0.5245901639344263,0.5245901639344263,0.5245901639344263,0.5245901639344263,0.5245901639344263,0.5245901639344263,0.5245901639344263,0.5409836065573771,0.5409836065573771,0.5409836065573771,0.5409836065573771,0.5573770491803278,0.5573770491803278,0.5573770491803278,0.5573770491803278,0.5573770491803278,0.5573770491803278,0.5573770491803278,0.5573770491803278,0.5573770491803278,0.5573770491803278,0.6065573770491803,0.6065573770491803,0.6229508196721312,0.6229508196721312,0.6229508196721312,0.6229508196721312,0.6229508196721312,0.6229508196721312,0.6229508196721312,0.6229508196721312,0.6229508196721312,0.6721311475409836,0.6721311475409836,0.6721311475409836,0.6721311475409836,0.6721311475409836,0.6721311475409836,0.6885245901639344,0.6885245901639344,0.7049180327868853,0.7049180327868853,0.7049180327868853,0.7049180327868853,0.7049180327868853,0.7049180327868853,0.7049180327868853,0.7049180327868853,0.7213114754098361,0.7213114754098361,0.7377049180327869,0.7377049180327869,0.7377049180327869,0.7377049180327869,0.7377049180327869,0.7377049180327869,0.7540983606557377,0.7540983606557377,0.7704918032786885,0.7704918032786885,0.7704918032786885,0.7704918032786885,0.7704918032786885,0.7704918032786885,0.8032786885245902,0.8032786885245902,0.8032786885245902,0.8032786885245902,0.8032786885245902,0.8032786885245902,0.8032786885245902,0.8032786885245902,0.8360655737704918,0.8360655737704918,0.8360655737704918,0.8360655737704918,0.8360655737704918,0.8360655737704918,0.8360655737704918,0.8360655737704918,0.8360655737704918,0.8360655737704918,0.8360655737704918,0.8524590163934426,0.8688524590163934,0.8688524590163934,0.8688524590163934,0.8688524590163934,0.8688524590163934,0.8688524590163934,0.8852459016393442,0.8852459016393442,0.8852459016393442,0.8852459016393442,0.8852459016393442,0.8852459016393442,0.8852459016393442,0.8852459016393442,0.8852459016393442,0.8852459016393442,0.8852459016393442,0.8852459016393442,0.8852459016393442,0.9836065573770492,0.9836065573770492,0.9836065573770492,0.9836065573770492,0.9836065573770492,0.9836065573770492,0.9836065573770492,0.9836065573770492,0.9836065573770492,0.9836065573770492,0.9836065573770492,0.9836065573770492,0.9836065573770492,0.9836065573770492,0.9836065573770492,1.0,1.0,1.0,1.0,1.0,1.0,1.0,1.0,1.0,1.0,1.0,1.0,1.0,1.0,1.0,1.0,1.0,1.0,1.0,1.0,1.0,1.0,1.0,1.0,1.0,1.0],\"yaxis\":\"y\",\"type\":\"scatter\"}],                        {\"template\":{\"data\":{\"histogram2dcontour\":[{\"type\":\"histogram2dcontour\",\"colorbar\":{\"outlinewidth\":0,\"ticks\":\"\"},\"colorscale\":[[0.0,\"#0d0887\"],[0.1111111111111111,\"#46039f\"],[0.2222222222222222,\"#7201a8\"],[0.3333333333333333,\"#9c179e\"],[0.4444444444444444,\"#bd3786\"],[0.5555555555555556,\"#d8576b\"],[0.6666666666666666,\"#ed7953\"],[0.7777777777777778,\"#fb9f3a\"],[0.8888888888888888,\"#fdca26\"],[1.0,\"#f0f921\"]]}],\"choropleth\":[{\"type\":\"choropleth\",\"colorbar\":{\"outlinewidth\":0,\"ticks\":\"\"}}],\"histogram2d\":[{\"type\":\"histogram2d\",\"colorbar\":{\"outlinewidth\":0,\"ticks\":\"\"},\"colorscale\":[[0.0,\"#0d0887\"],[0.1111111111111111,\"#46039f\"],[0.2222222222222222,\"#7201a8\"],[0.3333333333333333,\"#9c179e\"],[0.4444444444444444,\"#bd3786\"],[0.5555555555555556,\"#d8576b\"],[0.6666666666666666,\"#ed7953\"],[0.7777777777777778,\"#fb9f3a\"],[0.8888888888888888,\"#fdca26\"],[1.0,\"#f0f921\"]]}],\"heatmap\":[{\"type\":\"heatmap\",\"colorbar\":{\"outlinewidth\":0,\"ticks\":\"\"},\"colorscale\":[[0.0,\"#0d0887\"],[0.1111111111111111,\"#46039f\"],[0.2222222222222222,\"#7201a8\"],[0.3333333333333333,\"#9c179e\"],[0.4444444444444444,\"#bd3786\"],[0.5555555555555556,\"#d8576b\"],[0.6666666666666666,\"#ed7953\"],[0.7777777777777778,\"#fb9f3a\"],[0.8888888888888888,\"#fdca26\"],[1.0,\"#f0f921\"]]}],\"heatmapgl\":[{\"type\":\"heatmapgl\",\"colorbar\":{\"outlinewidth\":0,\"ticks\":\"\"},\"colorscale\":[[0.0,\"#0d0887\"],[0.1111111111111111,\"#46039f\"],[0.2222222222222222,\"#7201a8\"],[0.3333333333333333,\"#9c179e\"],[0.4444444444444444,\"#bd3786\"],[0.5555555555555556,\"#d8576b\"],[0.6666666666666666,\"#ed7953\"],[0.7777777777777778,\"#fb9f3a\"],[0.8888888888888888,\"#fdca26\"],[1.0,\"#f0f921\"]]}],\"contourcarpet\":[{\"type\":\"contourcarpet\",\"colorbar\":{\"outlinewidth\":0,\"ticks\":\"\"}}],\"contour\":[{\"type\":\"contour\",\"colorbar\":{\"outlinewidth\":0,\"ticks\":\"\"},\"colorscale\":[[0.0,\"#0d0887\"],[0.1111111111111111,\"#46039f\"],[0.2222222222222222,\"#7201a8\"],[0.3333333333333333,\"#9c179e\"],[0.4444444444444444,\"#bd3786\"],[0.5555555555555556,\"#d8576b\"],[0.6666666666666666,\"#ed7953\"],[0.7777777777777778,\"#fb9f3a\"],[0.8888888888888888,\"#fdca26\"],[1.0,\"#f0f921\"]]}],\"surface\":[{\"type\":\"surface\",\"colorbar\":{\"outlinewidth\":0,\"ticks\":\"\"},\"colorscale\":[[0.0,\"#0d0887\"],[0.1111111111111111,\"#46039f\"],[0.2222222222222222,\"#7201a8\"],[0.3333333333333333,\"#9c179e\"],[0.4444444444444444,\"#bd3786\"],[0.5555555555555556,\"#d8576b\"],[0.6666666666666666,\"#ed7953\"],[0.7777777777777778,\"#fb9f3a\"],[0.8888888888888888,\"#fdca26\"],[1.0,\"#f0f921\"]]}],\"mesh3d\":[{\"type\":\"mesh3d\",\"colorbar\":{\"outlinewidth\":0,\"ticks\":\"\"}}],\"scatter\":[{\"fillpattern\":{\"fillmode\":\"overlay\",\"size\":10,\"solidity\":0.2},\"type\":\"scatter\"}],\"parcoords\":[{\"type\":\"parcoords\",\"line\":{\"colorbar\":{\"outlinewidth\":0,\"ticks\":\"\"}}}],\"scatterpolargl\":[{\"type\":\"scatterpolargl\",\"marker\":{\"colorbar\":{\"outlinewidth\":0,\"ticks\":\"\"}}}],\"bar\":[{\"error_x\":{\"color\":\"#2a3f5f\"},\"error_y\":{\"color\":\"#2a3f5f\"},\"marker\":{\"line\":{\"color\":\"#E5ECF6\",\"width\":0.5},\"pattern\":{\"fillmode\":\"overlay\",\"size\":10,\"solidity\":0.2}},\"type\":\"bar\"}],\"scattergeo\":[{\"type\":\"scattergeo\",\"marker\":{\"colorbar\":{\"outlinewidth\":0,\"ticks\":\"\"}}}],\"scatterpolar\":[{\"type\":\"scatterpolar\",\"marker\":{\"colorbar\":{\"outlinewidth\":0,\"ticks\":\"\"}}}],\"histogram\":[{\"marker\":{\"pattern\":{\"fillmode\":\"overlay\",\"size\":10,\"solidity\":0.2}},\"type\":\"histogram\"}],\"scattergl\":[{\"type\":\"scattergl\",\"marker\":{\"colorbar\":{\"outlinewidth\":0,\"ticks\":\"\"}}}],\"scatter3d\":[{\"type\":\"scatter3d\",\"line\":{\"colorbar\":{\"outlinewidth\":0,\"ticks\":\"\"}},\"marker\":{\"colorbar\":{\"outlinewidth\":0,\"ticks\":\"\"}}}],\"scattermapbox\":[{\"type\":\"scattermapbox\",\"marker\":{\"colorbar\":{\"outlinewidth\":0,\"ticks\":\"\"}}}],\"scatterternary\":[{\"type\":\"scatterternary\",\"marker\":{\"colorbar\":{\"outlinewidth\":0,\"ticks\":\"\"}}}],\"scattercarpet\":[{\"type\":\"scattercarpet\",\"marker\":{\"colorbar\":{\"outlinewidth\":0,\"ticks\":\"\"}}}],\"carpet\":[{\"aaxis\":{\"endlinecolor\":\"#2a3f5f\",\"gridcolor\":\"white\",\"linecolor\":\"white\",\"minorgridcolor\":\"white\",\"startlinecolor\":\"#2a3f5f\"},\"baxis\":{\"endlinecolor\":\"#2a3f5f\",\"gridcolor\":\"white\",\"linecolor\":\"white\",\"minorgridcolor\":\"white\",\"startlinecolor\":\"#2a3f5f\"},\"type\":\"carpet\"}],\"table\":[{\"cells\":{\"fill\":{\"color\":\"#EBF0F8\"},\"line\":{\"color\":\"white\"}},\"header\":{\"fill\":{\"color\":\"#C8D4E3\"},\"line\":{\"color\":\"white\"}},\"type\":\"table\"}],\"barpolar\":[{\"marker\":{\"line\":{\"color\":\"#E5ECF6\",\"width\":0.5},\"pattern\":{\"fillmode\":\"overlay\",\"size\":10,\"solidity\":0.2}},\"type\":\"barpolar\"}],\"pie\":[{\"automargin\":true,\"type\":\"pie\"}]},\"layout\":{\"autotypenumbers\":\"strict\",\"colorway\":[\"#636efa\",\"#EF553B\",\"#00cc96\",\"#ab63fa\",\"#FFA15A\",\"#19d3f3\",\"#FF6692\",\"#B6E880\",\"#FF97FF\",\"#FECB52\"],\"font\":{\"color\":\"#2a3f5f\"},\"hovermode\":\"closest\",\"hoverlabel\":{\"align\":\"left\"},\"paper_bgcolor\":\"white\",\"plot_bgcolor\":\"#E5ECF6\",\"polar\":{\"bgcolor\":\"#E5ECF6\",\"angularaxis\":{\"gridcolor\":\"white\",\"linecolor\":\"white\",\"ticks\":\"\"},\"radialaxis\":{\"gridcolor\":\"white\",\"linecolor\":\"white\",\"ticks\":\"\"}},\"ternary\":{\"bgcolor\":\"#E5ECF6\",\"aaxis\":{\"gridcolor\":\"white\",\"linecolor\":\"white\",\"ticks\":\"\"},\"baxis\":{\"gridcolor\":\"white\",\"linecolor\":\"white\",\"ticks\":\"\"},\"caxis\":{\"gridcolor\":\"white\",\"linecolor\":\"white\",\"ticks\":\"\"}},\"coloraxis\":{\"colorbar\":{\"outlinewidth\":0,\"ticks\":\"\"}},\"colorscale\":{\"sequential\":[[0.0,\"#0d0887\"],[0.1111111111111111,\"#46039f\"],[0.2222222222222222,\"#7201a8\"],[0.3333333333333333,\"#9c179e\"],[0.4444444444444444,\"#bd3786\"],[0.5555555555555556,\"#d8576b\"],[0.6666666666666666,\"#ed7953\"],[0.7777777777777778,\"#fb9f3a\"],[0.8888888888888888,\"#fdca26\"],[1.0,\"#f0f921\"]],\"sequentialminus\":[[0.0,\"#0d0887\"],[0.1111111111111111,\"#46039f\"],[0.2222222222222222,\"#7201a8\"],[0.3333333333333333,\"#9c179e\"],[0.4444444444444444,\"#bd3786\"],[0.5555555555555556,\"#d8576b\"],[0.6666666666666666,\"#ed7953\"],[0.7777777777777778,\"#fb9f3a\"],[0.8888888888888888,\"#fdca26\"],[1.0,\"#f0f921\"]],\"diverging\":[[0,\"#8e0152\"],[0.1,\"#c51b7d\"],[0.2,\"#de77ae\"],[0.3,\"#f1b6da\"],[0.4,\"#fde0ef\"],[0.5,\"#f7f7f7\"],[0.6,\"#e6f5d0\"],[0.7,\"#b8e186\"],[0.8,\"#7fbc41\"],[0.9,\"#4d9221\"],[1,\"#276419\"]]},\"xaxis\":{\"gridcolor\":\"white\",\"linecolor\":\"white\",\"ticks\":\"\",\"title\":{\"standoff\":15},\"zerolinecolor\":\"white\",\"automargin\":true,\"zerolinewidth\":2},\"yaxis\":{\"gridcolor\":\"white\",\"linecolor\":\"white\",\"ticks\":\"\",\"title\":{\"standoff\":15},\"zerolinecolor\":\"white\",\"automargin\":true,\"zerolinewidth\":2},\"scene\":{\"xaxis\":{\"backgroundcolor\":\"#E5ECF6\",\"gridcolor\":\"white\",\"linecolor\":\"white\",\"showbackground\":true,\"ticks\":\"\",\"zerolinecolor\":\"white\",\"gridwidth\":2},\"yaxis\":{\"backgroundcolor\":\"#E5ECF6\",\"gridcolor\":\"white\",\"linecolor\":\"white\",\"showbackground\":true,\"ticks\":\"\",\"zerolinecolor\":\"white\",\"gridwidth\":2},\"zaxis\":{\"backgroundcolor\":\"#E5ECF6\",\"gridcolor\":\"white\",\"linecolor\":\"white\",\"showbackground\":true,\"ticks\":\"\",\"zerolinecolor\":\"white\",\"gridwidth\":2}},\"shapedefaults\":{\"line\":{\"color\":\"#2a3f5f\"}},\"annotationdefaults\":{\"arrowcolor\":\"#2a3f5f\",\"arrowhead\":0,\"arrowwidth\":1},\"geo\":{\"bgcolor\":\"white\",\"landcolor\":\"#E5ECF6\",\"subunitcolor\":\"white\",\"showland\":true,\"showlakes\":true,\"lakecolor\":\"white\"},\"title\":{\"x\":0.05},\"mapbox\":{\"style\":\"light\"}}},\"xaxis\":{\"anchor\":\"y\",\"domain\":[0.0,1.0],\"title\":{\"text\":\"FPR\"}},\"yaxis\":{\"anchor\":\"x\",\"domain\":[0.0,1.0],\"title\":{\"text\":\"TPR\"}},\"legend\":{\"tracegroupgap\":0},\"title\":{\"text\":\"BLAST Model - Autoimmune Prediction\"},\"shapes\":[{\"line\":{\"dash\":\"dash\"},\"type\":\"line\",\"x0\":0,\"x1\":1,\"y0\":0,\"y1\":1}],\"annotations\":[{\"showarrow\":false,\"text\":\"AUC=0.51\",\"x\":0.5,\"y\":0.4}],\"width\":600,\"height\":600},                        {\"responsive\": true}                    ).then(function(){\n",
       "                            \n",
       "var gd = document.getElementById('b115c2c6-dab3-40f7-848b-7f67e25ffead');\n",
       "var x = new MutationObserver(function (mutations, observer) {{\n",
       "        var display = window.getComputedStyle(gd).display;\n",
       "        if (!display || display === 'none') {{\n",
       "            console.log([gd, 'removed!']);\n",
       "            Plotly.purge(gd);\n",
       "            observer.disconnect();\n",
       "        }}\n",
       "}});\n",
       "\n",
       "// Listen for the removal of the full notebook cells\n",
       "var notebookContainer = gd.closest('#notebook-container');\n",
       "if (notebookContainer) {{\n",
       "    x.observe(notebookContainer, {childList: true});\n",
       "}}\n",
       "\n",
       "// Listen for the clearing of the current output cell\n",
       "var outputEl = gd.closest('.output');\n",
       "if (outputEl) {{\n",
       "    x.observe(outputEl, {childList: true});\n",
       "}}\n",
       "\n",
       "                        })                };                });            </script>        </div>"
      ]
     },
     "metadata": {},
     "output_type": "display_data"
    }
   ],
   "source": [
    "X = r['Sequence Identity']\n",
    "y = ~r['test_normal']\n",
    "\n",
    "fpr, tpr, thresh = roc_curve(y, X)\n",
    "roc_df = pd.DataFrame(zip(fpr, tpr, thresh), columns = ['FPR', 'TPR', 'Threshold'])\n",
    "\n",
    "fig = px.area(roc_df, x='FPR', y='TPR', hover_data = ['Threshold'], title='BLAST Model - Autoimmune Prediction')\n",
    "fig.add_shape(type='line', line=dict(dash='dash'), x0=0, x1=1, y0=0, y1=1)\n",
    "fig.add_annotation(x=0.5, y=0.4, text=f'AUC={roc_auc_score(y, X):.2f}', showarrow=False)\n",
    "fig.update_layout(width=600, height=600)\n",
    "\n",
    "fig.show()"
   ]
  },
  {
   "cell_type": "code",
   "execution_count": 13,
   "id": "adc94e9d",
   "metadata": {},
   "outputs": [
    {
     "data": {
      "text/plain": [
       "<matplotlib.lines.Line2D at 0x7ff31a143100>"
      ]
     },
     "execution_count": 13,
     "metadata": {},
     "output_type": "execute_result"
    },
    {
     "data": {
      "image/png": "[encoded data removed]",
      "text/plain": [
       "<Figure size 576x432 with 1 Axes>"
      ]
     },
     "metadata": {
      "needs_background": "light"
     },
     "output_type": "display_data"
    }
   ],
   "source": [
    "means = []\n",
    "for i in range(100):\n",
    "    means.append(normal_test.sample(n=60)['Sequence Identity'].mean())\n",
    "\n",
    "plt.figure(figsize=(8,6))\n",
    "plt.hist(means, bins=10)\n",
    "plt.xlabel('Sequence Identity (%)')\n",
    "plt.axvline(ai_test['Sequence Identity'].mean(),color = 'red')"
   ]
  },
  {
   "cell_type": "code",
   "execution_count": null,
   "id": "e05010d6",
   "metadata": {},
   "outputs": [],
   "source": []
  },
  {
   "cell_type": "code",
   "execution_count": null,
   "id": "e0ff45a9",
   "metadata": {},
   "outputs": [],
   "source": []
  },
  {
   "cell_type": "code",
   "execution_count": null,
   "id": "e6a62513",
   "metadata": {},
   "outputs": [],
   "source": []
  },
  {
   "cell_type": "code",
   "execution_count": null,
   "id": "ff9a95e5",
   "metadata": {},
   "outputs": [],
   "source": []
  },
  {
   "cell_type": "code",
   "execution_count": null,
   "id": "751949f6",
   "metadata": {},
   "outputs": [],
   "source": []
  },
  {
   "cell_type": "code",
   "execution_count": null,
   "id": "2e43abd1",
   "metadata": {},
   "outputs": [],
   "source": []
  },
  {
   "cell_type": "code",
   "execution_count": null,
   "id": "84a85764",
   "metadata": {},
   "outputs": [],
   "source": []
  },
  {
   "cell_type": "code",
   "execution_count": null,
   "id": "0f1f4790",
   "metadata": {},
   "outputs": [],
   "source": []
  },
  {
   "cell_type": "code",
   "execution_count": null,
   "id": "8b0046df",
   "metadata": {},
   "outputs": [],
   "source": []
  },
  {
   "cell_type": "code",
   "execution_count": null,
   "id": "de5a3e74",
   "metadata": {},
   "outputs": [],
   "source": []
  },
  {
   "cell_type": "code",
   "execution_count": 154,
   "id": "635ba3a2",
   "metadata": {},
   "outputs": [],
   "source": [
    "df = pd.read_csv('BLAST_results.csv')"
   ]
  },
  {
   "cell_type": "code",
   "execution_count": 157,
   "id": "29c93357",
   "metadata": {},
   "outputs": [],
   "source": [
    "df[~df['normal']].to_csv('autoimmune_BLAST_results.csv')"
   ]
  },
  {
   "cell_type": "code",
   "execution_count": 164,
   "id": "23e12fb8",
   "metadata": {},
   "outputs": [],
   "source": [
    "id_to_gene_map = dict(zip(human_proteome['id'], human_proteome['gene']))"
   ]
  },
  {
   "cell_type": "code",
   "execution_count": 160,
   "id": "40ca35e7",
   "metadata": {},
   "outputs": [],
   "source": [
    "df = pd.read_csv('autoimmune_BLAST_results.csv')"
   ]
  },
  {
   "cell_type": "code",
   "execution_count": 166,
   "id": "8cfbb7ad",
   "metadata": {},
   "outputs": [],
   "source": [
    "df['Test Gene'] = df['Test UniProt ID'].map(id_to_gene_map)\n",
    "df['Train Gene'] = df['Train UniProt ID'].map(id_to_gene_map)"
   ]
  },
  {
   "cell_type": "code",
   "execution_count": 168,
   "id": "63673c50",
   "metadata": {},
   "outputs": [],
   "source": [
    "df.to_csv('autoimmune_BLAST_results.csv')"
   ]
  },
  {
   "cell_type": "code",
   "execution_count": null,
   "id": "90358c51",
   "metadata": {},
   "outputs": [],
   "source": []
  },
  {
   "cell_type": "code",
   "execution_count": 186,
   "id": "a3ea8804",
   "metadata": {},
   "outputs": [],
   "source": [
    "df = pd.read_csv('test_autoimmune_BLAST_results.csv')"
   ]
  },
  {
   "cell_type": "code",
   "execution_count": 187,
   "id": "6eaf9d70",
   "metadata": {},
   "outputs": [],
   "source": [
    "df['correct'] = df['Test'].str.split('-').str[1] == df['Train'].str.split('-').str[1]"
   ]
  },
  {
   "cell_type": "code",
   "execution_count": 189,
   "id": "cf94500d",
   "metadata": {},
   "outputs": [],
   "source": [
    "df.to_csv('test_autoimmune_BLAST_results.csv')"
   ]
  },
  {
   "cell_type": "code",
   "execution_count": null,
   "id": "c38fa889",
   "metadata": {},
   "outputs": [],
   "source": []
  }
 ],
 "metadata": {
  "kernelspec": {
   "display_name": "Python 3 (ipykernel)",
   "language": "python",
   "name": "python3"
  },
  "language_info": {
   "codemirror_mode": {
    "name": "ipython",
    "version": 3
   },
   "file_extension": ".py",
   "mimetype": "text/x-python",
   "name": "python",
   "nbconvert_exporter": "python",
   "pygments_lexer": "ipython3",
   "version": "3.10.4"
  }
 },
 "nbformat": 4,
 "nbformat_minor": 5
}
