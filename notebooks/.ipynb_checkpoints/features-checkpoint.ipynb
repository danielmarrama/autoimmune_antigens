{
 "cells": [
  {
   "cell_type": "code",
   "execution_count": 13,
   "id": "575f6dcd",
   "metadata": {},
   "outputs": [],
   "source": [
    "import pandas as pd\n",
    "\n",
    "from Bio import SeqIO\n",
    "\n",
    "import os\n",
    "from Bio.Blast.Applications import NcbiblastpCommandline"
   ]
  },
  {
   "cell_type": "code",
   "execution_count": 6,
   "id": "60045b7d",
   "metadata": {},
   "outputs": [],
   "source": [
    "autoimmune_antigens = list(SeqIO.parse('../autoimmune_antigens.fasta', 'fasta'))"
   ]
  },
  {
   "cell_type": "code",
   "execution_count": 8,
   "id": "c8b014b9",
   "metadata": {},
   "outputs": [
    {
     "data": {
      "text/plain": [
       "SeqRecord(seq=Seq('MAWTPLLFLTLLLHCTGSLSQLVLTQSPSASASLGASVKLTCTLSSGHSSYAIA...TGI'), id='sp|A0A075B6H9|LV469_HUMAN', name='sp|A0A075B6H9|LV469_HUMAN', description='sp|A0A075B6H9|LV469_HUMAN Immunoglobulin lambda variable 4-69 OS=Homo sapiens OX=9606 GN=IGLV4-69 PE=1 SV=1', dbxrefs=[])"
      ]
     },
     "execution_count": 8,
     "metadata": {},
     "output_type": "execute_result"
    }
   ],
   "source": [
    "autoimmune_antigens[0]"
   ]
  },
  {
   "cell_type": "code",
   "execution_count": 12,
   "id": "a77e372f",
   "metadata": {
    "collapsed": true
   },
   "outputs": [
    {
     "name": "stdout",
     "output_type": "stream",
     "text": [
      "\n",
      "\n",
      "Building a new DB, current time: 11/16/2022 19:44:05\n",
      "New DB name:   /home/dan/projects/autoimmunity/blast/autoimmune_antigens_minus_one.fasta\n",
      "New DB title:  ../blast/autoimmune_antigens_minus_one.fasta\n",
      "Sequence type: Protein\n",
      "Keep MBits: T\n",
      "Maximum file size: 3000000000B\n",
      "Adding sequences from FASTA; added 439 sequences in 0.011452 seconds.\n",
      "\n",
      "\n"
     ]
    },
    {
     "name": "stderr",
     "output_type": "stream",
     "text": [
      "FASTA-Reader: Ignoring invalid residues at position(s): On line 2012: 5, 15, 41\n",
      "FASTA-Reader: Ignoring invalid residues at position(s): On line 2013: 5, 15, 41\n",
      "FASTA-Reader: Ignoring invalid residues at position(s): On line 2014: 5, 15, 41, 83, 86, 88, 90-92, 96-97, 99, 101-103, 107-108, 145, 149, 165-169, 173, 178, 182-183, 187-188\n"
     ]
    },
    {
     "data": {
      "text/plain": [
       "0"
      ]
     },
     "execution_count": 12,
     "metadata": {},
     "output_type": "execute_result"
    }
   ],
   "source": [
    "os.system('../blast/makeblastdb' + ' -in ' + '../blast/autoimmune_antigens_minus_one.fasta' + ' -dbtype prot')"
   ]
  },
  {
   "cell_type": "code",
   "execution_count": null,
   "id": "32cb3e7f",
   "metadata": {},
   "outputs": [],
   "source": [
    "blastx_cline = NcbiblastpCommandline(cmd=self.blastp_path,\n",
    "                                    query = self.query, \n",
    "                                    db = self.proteome, \n",
    "                                    evalue=100, outfmt=10, out='output.csv')\n",
    "\n",
    "stdout, stderr = blastx_cline()"
   ]
  }
 ],
 "metadata": {
  "kernelspec": {
   "display_name": "Python 3 (ipykernel)",
   "language": "python",
   "name": "python3"
  },
  "language_info": {
   "codemirror_mode": {
    "name": "ipython",
    "version": 3
   },
   "file_extension": ".py",
   "mimetype": "text/x-python",
   "name": "python",
   "nbconvert_exporter": "python",
   "pygments_lexer": "ipython3",
   "version": "3.10.4"
  }
 },
 "nbformat": 4,
 "nbformat_minor": 5
}
