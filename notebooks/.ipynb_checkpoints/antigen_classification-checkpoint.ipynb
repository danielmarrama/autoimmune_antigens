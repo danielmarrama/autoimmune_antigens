{
 "cells": [
  {
   "cell_type": "markdown",
   "metadata": {},
   "source": [
    "# Antigen Classification for Autoimmunity (and Cancer)\n",
    "\n",
    "## Goals\n",
    "\n",
    "### 1. Extract and validate autoimmune/cancer antigen data from the IEDB.\n",
    "Status: **DONE**\n",
    "\n",
    "The IEDB contains curated immune epitope data from the scientific literature. These include autoimmune epitopes, which are self-peptides, but recognized by the host immune cells, leading to disease. We want to first collect these autoimmune epitopes and retrieve their corresponding antigens. This will give us a dataset of known autoimmune antigens that we can then explore for unique features. We reached out to the top authors for 5 autoimmune diseases  that are referenced in the IEDB so that we can validate our dataset. These 5 autoimmune diseases have the most antigen data and are: type 1 diabetes mellitus, multiple sclerosis, systemic lupus erythematosus, rheumatoid arthritis, and Sjogren's syndrome.\n",
    "\n",
    "[Script to extract antigen data from IEDB.](extract_antigen_data.py)\n",
    "\n",
    "\n",
    "### 2. Explore and identify features of autoimmune antigens (and cancer).\n",
    "Status: **IN PROGRESS**\n",
    "\n",
    "### 3. Build a model for predicting autoimmune antigens - compare to BLAST.\n",
    "Status: **IN PROGRESS**"
   ]
  },
  {
   "cell_type": "code",
   "execution_count": 1,
   "metadata": {},
   "outputs": [],
   "source": [
    "import warnings\n",
    "warnings.filterwarnings('ignore')\n",
    "\n",
    "import requests\n",
    "import random\n",
    "import re\n",
    "\n",
    "import pandas as pd\n",
    "import numpy as np\n",
    "import matplotlib.pyplot as plt\n",
    "\n",
    "from Bio import SeqIO\n",
    "from matplotlib_venn import venn3\n",
    "from scipy import stats"
   ]
  },
  {
   "cell_type": "code",
   "execution_count": 2,
   "metadata": {},
   "outputs": [],
   "source": [
    "# amino acid symbol to name map \n",
    "aa_map = {'A': 'alanines', 'R': 'arginines', 'N': 'asparagines', 'D': 'aspartates', 'C': 'cysteines',\n",
    "          'Q': 'glutamines', 'E': 'glutamates', 'G': 'glycines', 'H': 'histidines', 'I': 'isoleucines',\n",
    "          'L': 'leucines', 'K': 'lysines', 'M': 'methionines', 'F': 'phenylalanines', 'P': 'prolines',\n",
    "          'S': 'serines', 'T': 'threonines', 'W': 'tryptophans', 'Y': 'tyrosines', 'V': 'valines'}"
   ]
  },
  {
   "cell_type": "code",
   "execution_count": 3,
   "metadata": {},
   "outputs": [],
   "source": [
    "# read in datasets\n",
    "ai_t = pd.read_excel('data/autoimmunity/human_autoimmune_data.xlsx', sheet_name = 0)\n",
    "ai_b = pd.read_excel('data/autoimmunity/human_autoimmune_data.xlsx', sheet_name = 2)\n",
    "\n",
    "cancer_t = pd.read_excel('cancer/cancer_data.xlsx', index_col = 0, sheet_name = 1)\n",
    "cancer_b = pd.read_excel('cancer/cancer_data.xlsx', index_col = 0, sheet_name = 3)\n",
    "\n",
    "# combine T cell and B cell data\n",
    "ai =     pd.concat([ai_t, ai_b]).dropna(subset='Antigen ID')\n",
    "cancer = pd.concat([cancer_t, cancer_b]).dropna(subset='Antigen ID')"
   ]
  },
  {
   "cell_type": "code",
   "execution_count": 255,
   "metadata": {},
   "outputs": [],
   "source": [
    "# ONLY SELECT RA DATA FROM OTHER REFERENCES\n",
    "ra_paper_antigens = list(ai[ai['Reference ID'] == 1036293]['Antigen ID'].unique())\n",
    "\n",
    "drop_ids = list(ai[(ai['Reference ID'] != 1036293) & ~(ai['Antigen ID'].isin(ra_paper_antigens))]['Antigen ID'].unique())"
   ]
  },
  {
   "cell_type": "code",
   "execution_count": 271,
   "metadata": {},
   "outputs": [],
   "source": [
    "keep_ids = []\n",
    "for i, j in ai.groupby('Antigen ID'):\n",
    "    if 1036293 in list(j['Reference ID']):\n",
    "        if len(j['Reference ID'].unique()) > 1:\n",
    "            keep_ids.append(i)"
   ]
  },
  {
   "cell_type": "code",
   "execution_count": 258,
   "metadata": {},
   "outputs": [
    {
     "data": {
      "text/plain": [
       "4780"
      ]
     },
     "execution_count": 258,
     "metadata": {},
     "output_type": "execute_result"
    }
   ],
   "source": [
    "len(ai[(ai['Reference ID'] != 1036293) & (ai['Antigen ID'].isin(ra_paper_antigens))]['Antigen ID'].unique())"
   ]
  },
  {
   "cell_type": "code",
   "execution_count": 272,
   "metadata": {},
   "outputs": [
    {
     "data": {
      "text/plain": [
       "160"
      ]
     },
     "execution_count": 272,
     "metadata": {},
     "output_type": "execute_result"
    }
   ],
   "source": [
    "len(keep_ids)"
   ]
  },
  {
   "cell_type": "code",
   "execution_count": null,
   "metadata": {},
   "outputs": [],
   "source": []
  },
  {
   "cell_type": "code",
   "execution_count": null,
   "metadata": {},
   "outputs": [],
   "source": []
  },
  {
   "cell_type": "code",
   "execution_count": 158,
   "metadata": {},
   "outputs": [],
   "source": [
    "# make antigen IDs to seq\n",
    "antigen_id_to_seq = {}\n",
    "antigen_id_to_name = {}\n",
    "antigen_id_to_gene = {}\n",
    "for i in list(SeqIO.parse('autoimmune_antigens.fasta', 'fasta')):\n",
    "    antigen_id_to_seq[str(i.id).split('|')[1]] = str(i.seq)\n",
    "    antigen_id_to_name[str(i.id).split('|')[1]] = re.search(' (.*) OS', i.description).group(1)\n",
    "    try:\n",
    "        antigen_id_to_gene[str(i.id).split('|')[1]] = re.search('GN=(.*?) ', i.description).group(1)\n",
    "    except AttributeError:\n",
    "        continue\n",
    "for i in list(SeqIO.parse('cancer_antigens.fasta', 'fasta')):\n",
    "    antigen_id_to_seq[str(i.id).split('|')[1]] = str(i.seq)\n",
    "    try:\n",
    "        antigen_id_to_gene[str(i.id).split('|')[1]] = re.search('GN=(.*?) ', i.description).group(1)\n",
    "    except AttributeError:\n",
    "        continue\n",
    "for i in list(SeqIO.parse('normal_proteins.fasta', 'fasta')):\n",
    "    antigen_id_to_seq[str(i.id).split('|')[1]] = str(i.seq)\n",
    "    try:\n",
    "        antigen_id_to_gene[str(i.id).split('|')[1]] = re.search('GN=(.*?) ', i.description).group(1)\n",
    "    except AttributeError:\n",
    "        continue"
   ]
  },
  {
   "cell_type": "code",
   "execution_count": 181,
   "metadata": {},
   "outputs": [],
   "source": [
    "# combine all data into one dataset\n",
    "\n",
    "data = []\n",
    "for i, row in ai.iterrows():\n",
    "    ai_data = []\n",
    "    ai_data.append('autoimmune')\n",
    "    ai_data.append(row['Disease'])\n",
    "    ai_data.append(row['Antigen ID'])\n",
    "    ai_data.append(row['Antigen Name'])\n",
    "    try:\n",
    "        ai_data.append(antigen_id_to_gene[row['Antigen ID']])\n",
    "    except KeyError:\n",
    "        ai_data.append(None)\n",
    "    data.append(ai_data)\n",
    "    \n",
    "for i, row in cancer.iterrows():\n",
    "    cancer_data = []\n",
    "    cancer_data.append('cancer')\n",
    "    cancer_data.append(row['Diseases'])\n",
    "    cancer_data.append(row['Antigen ID'])\n",
    "    cancer_data.append(row['Antigen'])\n",
    "    try:\n",
    "        cancer_data.append(antigen_id_to_gene[row['Antigen ID']])\n",
    "    except KeyError:\n",
    "        cancer_data.append(None)\n",
    "    data.append(cancer_data)\n",
    "\n",
    "for i in list(SeqIO.parse('normal_proteins.fasta', 'fasta')):\n",
    "    normal_data = []\n",
    "    normal_data.append('normal')\n",
    "    normal_data.append('healthy')\n",
    "    normal_data.append(str(i.id).split('|')[1])\n",
    "    normal_data.append(re.search(' (.*) OS', i.description).group(1))\n",
    "    try:\n",
    "        normal_data.append(antigen_id_to_gene[str(i.id).split('|')[1]])\n",
    "    except KeyError:\n",
    "        normal_data.append(None)\n",
    "    data.append(normal_data)\n",
    "    \n",
    "df = pd.DataFrame(data, columns=['category', 'disease', 'uniprot ID', 'name', 'gene'])"
   ]
  },
  {
   "cell_type": "code",
   "execution_count": 182,
   "metadata": {},
   "outputs": [],
   "source": [
    "# fill antigen name nulls with dict made from fasta files\n",
    "df['name'] = df['name'].fillna(df['uniprot ID'].map(antigen_id_to_name))\n",
    "\n",
    "# map antigen IDs to seq and drop any that we don't have\n",
    "df['seq'] = df['uniprot ID'].map(antigen_id_to_seq)\n",
    "df = df.dropna(subset=['seq'])\n",
    "\n",
    "# add length of seq column\n",
    "df['length'] = df['seq'].str.len()\n",
    "df = df[df['length'] < 8000] # remove seqs with length greater than 8,000\n",
    "\n",
    "# add amino acid counts from seq column\n",
    "c = pd.Series([0 for i in range(22864)]).astype('int64')\n",
    "for aa in 'ARNDCQEGHILKMFPSTWYV':\n",
    "    df[aa_map[aa]] = (df['seq'].str.count(aa) / df['length']) * 100\n",
    "    c += df['seq'].str.count(aa)\n",
    "#     print(df['seq'].str.count(aa))"
   ]
  },
  {
   "cell_type": "code",
   "execution_count": null,
   "metadata": {},
   "outputs": [],
   "source": []
  },
  {
   "cell_type": "code",
   "execution_count": 184,
   "metadata": {},
   "outputs": [],
   "source": [
    "#######################################################################################\n",
    "df.to_csv('master_data.csv')\n",
    "#######################################################################################"
   ]
  },
  {
   "cell_type": "code",
   "execution_count": null,
   "metadata": {},
   "outputs": [],
   "source": []
  },
  {
   "cell_type": "code",
   "execution_count": null,
   "metadata": {},
   "outputs": [],
   "source": []
  },
  {
   "cell_type": "code",
   "execution_count": null,
   "metadata": {},
   "outputs": [],
   "source": []
  },
  {
   "cell_type": "code",
   "execution_count": null,
   "metadata": {},
   "outputs": [],
   "source": []
  },
  {
   "cell_type": "code",
   "execution_count": 130,
   "metadata": {},
   "outputs": [
    {
     "data": {
      "image/png": "[encoded data removed]",
      "text/plain": [
       "<Figure size 720x504 with 1 Axes>"
      ]
     },
     "metadata": {
      "needs_background": "light"
     },
     "output_type": "display_data"
    }
   ],
   "source": [
    "plt.figure(figsize=(10, 7))\n",
    "\n",
    "plt.hist(df[df['category'] == 'autoimmune']['cysteines'], 100, alpha=0.5, label='autoimmune');\n",
    "plt.hist(df[df['category'] == 'cancer']['cysteines'], 100, alpha=0.5, label='cancer');\n",
    "plt.hist(df[df['category'] == 'normal']['cysteines'], 100, alpha=0.5, label='normal');\n",
    "plt.title('Distributions of antigen type by ' + 'cysteines' + '.')\n",
    "plt.legend(loc='upper right')\n",
    "plt.show()"
   ]
  },
  {
   "cell_type": "code",
   "execution_count": null,
   "metadata": {},
   "outputs": [],
   "source": []
  },
  {
   "cell_type": "code",
   "execution_count": null,
   "metadata": {},
   "outputs": [],
   "source": []
  },
  {
   "cell_type": "code",
   "execution_count": null,
   "metadata": {},
   "outputs": [],
   "source": []
  },
  {
   "cell_type": "code",
   "execution_count": null,
   "metadata": {},
   "outputs": [],
   "source": []
  },
  {
   "cell_type": "code",
   "execution_count": null,
   "metadata": {},
   "outputs": [],
   "source": []
  },
  {
   "cell_type": "code",
   "execution_count": null,
   "metadata": {},
   "outputs": [],
   "source": []
  },
  {
   "cell_type": "code",
   "execution_count": 82,
   "metadata": {
    "scrolled": true
   },
   "outputs": [
    {
     "data": {
      "text/plain": [
       "<matplotlib_venn._common.VennDiagram at 0x7fef9d6e30d0>"
      ]
     },
     "execution_count": 82,
     "metadata": {},
     "output_type": "execute_result"
    },
    {
     "data": {
      "image/png": "[encoded data removed]",
      "text/plain": [
       "<Figure size 432x288 with 1 Axes>"
      ]
     },
     "metadata": {},
     "output_type": "display_data"
    }
   ],
   "source": [
    "antigen_ids = {}\n",
    "antigen_ids['autoimmune'] = list(set(df[df['category'] == 'autoimmune']['uniprot ID']))\n",
    "antigen_ids['cancer'] = list(set(df[df['category'] == 'cancer']['uniprot ID']))\n",
    "antigen_ids['normal'] = list(set(df[df['category'] == 'normal']['uniprot ID']))\n",
    "\n",
    "plt.title('Antigens without RA cutoff')\n",
    "venn3([set(antigen_ids['autoimmune']), set(antigen_ids['cancer']), set(antigen_ids['normal'])], ['autoimmune\\nantigens', 'cancer\\nantigens', 'normal\\nproteins'])"
   ]
  },
  {
   "cell_type": "code",
   "execution_count": null,
   "metadata": {},
   "outputs": [],
   "source": []
  },
  {
   "cell_type": "code",
   "execution_count": null,
   "metadata": {},
   "outputs": [],
   "source": []
  },
  {
   "cell_type": "code",
   "execution_count": null,
   "metadata": {},
   "outputs": [],
   "source": []
  },
  {
   "cell_type": "code",
   "execution_count": null,
   "metadata": {},
   "outputs": [],
   "source": []
  },
  {
   "cell_type": "code",
   "execution_count": null,
   "metadata": {},
   "outputs": [],
   "source": []
  },
  {
   "cell_type": "code",
   "execution_count": null,
   "metadata": {},
   "outputs": [],
   "source": []
  },
  {
   "cell_type": "code",
   "execution_count": null,
   "metadata": {},
   "outputs": [],
   "source": []
  },
  {
   "cell_type": "code",
   "execution_count": null,
   "metadata": {},
   "outputs": [],
   "source": []
  },
  {
   "cell_type": "code",
   "execution_count": null,
   "metadata": {},
   "outputs": [],
   "source": []
  },
  {
   "cell_type": "code",
   "execution_count": null,
   "metadata": {},
   "outputs": [],
   "source": [
    "# Write UniProt fasta data for autoimmune and cancer antigens to files\n",
    "\n",
    "# count = 0\n",
    "# with open('autoimmune_antigens.fasta', 'wb') as f:\n",
    "#     for i in antigen_ids['autoimmune']:\n",
    "#         print(count + 1)\n",
    "#         r = requests.get('https://www.uniprot.org/uniprot/' + i + '.fasta')\n",
    "#         f.write(r.content) \n",
    "#         count += 1 \n",
    "\n",
    "# count = 0 \n",
    "# with open('cancer_antigens.fasta', 'wb') as f:\n",
    "#     for i in antigen_ids['cancer']:\n",
    "#         print(count + 1)\n",
    "#         r = requests.get('https://www.uniprot.org/uniprot/' + i + '.fasta')\n",
    "#         f.write(r.content)\n",
    "#         count += 1 "
   ]
  },
  {
   "cell_type": "code",
   "execution_count": 133,
   "metadata": {},
   "outputs": [],
   "source": [
    "# get all proteins that are not in the autoimmune and cancer pools\n",
    "all_proteins = {}\n",
    "\n",
    "count = 0\n",
    "for i in list(SeqIO.parse('9606.fasta', 'fasta')):\n",
    "    if str(i.id).split('|')[1] in antigen_ids['autoimmune'] or str(i.id).split('|')[1] in antigen_ids['cancer']:\n",
    "        continue\n",
    "    else:\n",
    "        all_proteins[str(i.id).split('|')[1]] = str(i.seq)\n",
    "        \n",
    "# Write UniProt fasta data for normal proteins to file\n",
    "\n",
    "# count = 0\n",
    "# with open('normal_proteins.fasta', 'wb') as f:\n",
    "#     for i in list(normal_proteins.keys()):\n",
    "#         print(count + 1)\n",
    "#         r = requests.get('https://www.uniprot.org/uniprot/' + i + '.fasta')\n",
    "#         f.write(r.content) \n",
    "#         count += 1"
   ]
  },
  {
   "cell_type": "code",
   "execution_count": null,
   "metadata": {},
   "outputs": [],
   "source": []
  }
 ],
 "metadata": {
  "kernelspec": {
   "display_name": "Python 3 (ipykernel)",
   "language": "python",
   "name": "python3"
  },
  "language_info": {
   "codemirror_mode": {
    "name": "ipython",
    "version": 3
   },
   "file_extension": ".py",
   "mimetype": "text/x-python",
   "name": "python",
   "nbconvert_exporter": "python",
   "pygments_lexer": "ipython3",
   "version": "3.10.4"
  }
 },
 "nbformat": 4,
 "nbformat_minor": 4
}
