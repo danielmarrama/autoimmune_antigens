{
 "cells": [
  {
   "cell_type": "code",
   "execution_count": 2,
   "id": "de12ce9f",
   "metadata": {},
   "outputs": [],
   "source": [
    "import warnings\n",
    "warnings.filterwarnings(\"ignore\")\n",
    "\n",
    "import io\n",
    "import requests\n",
    "import json\n",
    "import gzip\n",
    "import numpy as np\n",
    "import pandas as pd\n",
    "\n",
    "from pepmatch import Preprocessor, Matcher\n",
    "from collections import Counter\n",
    "from Bio import SeqIO"
   ]
  },
  {
   "cell_type": "code",
   "execution_count": null,
   "id": "a39e9439",
   "metadata": {},
   "outputs": [],
   "source": [
    "def pull_iedb_assay_data(table):\n",
    "    '''Extracts T cell and B cell positive assay data from the IEDB.'''\n",
    "\n",
    "    # first get the total number of assays as first request to loop through API\n",
    "    url = 'https://query-api.iedb.org/%s_search' % table\n",
    "    params = {'order': 'structure_id',\n",
    "              'qualitative_measure': 'neq.Negative'} # select positive assays only\n",
    "    r = requests.get(url, params=params, headers={'Prefer': 'count=exact'})\n",
    "    pages = int(r.headers['Content-Range'].split('/')[-1])\n",
    "    \n",
    "    # loop through IEDB API pages using requests - read into pandas DataFrame and concat\n",
    "    df = pd.DataFrame()\n",
    "    for i in range(pages // 10000 + 1): # API limit is 10,000 entries\n",
    "        params['offset'] = i*10000\n",
    "\n",
    "        # request API call returning csv formatting using parameters in params\n",
    "        s = requests.get(url, params=params, headers={'accept': 'text/csv', 'Prefer': 'count=exact'})\n",
    "        df = pd.concat([df, pd.read_csv(io.StringIO(s.content.decode('utf-8')))])\n",
    "\n",
    "    return df"
   ]
  }
 ],
 "metadata": {
  "kernelspec": {
   "display_name": "Python 3 (ipykernel)",
   "language": "python",
   "name": "python3"
  },
  "language_info": {
   "codemirror_mode": {
    "name": "ipython",
    "version": 3
   },
   "file_extension": ".py",
   "mimetype": "text/x-python",
   "name": "python",
   "nbconvert_exporter": "python",
   "pygments_lexer": "ipython3",
   "version": "3.10.4"
  }
 },
 "nbformat": 4,
 "nbformat_minor": 5
}
