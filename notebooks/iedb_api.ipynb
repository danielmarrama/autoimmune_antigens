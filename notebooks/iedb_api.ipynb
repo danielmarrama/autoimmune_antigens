{
 "cells": [
  {
   "cell_type": "code",
   "execution_count": 9,
   "id": "464638e9",
   "metadata": {},
   "outputs": [],
   "source": [
    "import warnings\n",
    "warnings.filterwarnings(\"ignore\")\n",
    "\n",
    "import io\n",
    "import requests\n",
    "import json\n",
    "import gzip\n",
    "import numpy as np\n",
    "import pandas as pd\n",
    "\n",
    "from pepmatch import Preprocessor, Matcher\n",
    "from collections import Counter\n",
    "from Bio import SeqIO\n",
    "\n",
    "with open('../autoimmune_diseases.json' , 'r') as f:\n",
    "    diseases = json.load(f)"
   ]
  },
  {
   "cell_type": "code",
   "execution_count": 77,
   "id": "446414a3",
   "metadata": {},
   "outputs": [],
   "source": [
    "def pull_iedb_assay_data(table):\n",
    "    '''\n",
    "    Extracts T cell and B cell positive assay data from the IEDB.\n",
    "    Parameter table = 'tcell' or 'bcell' to specify. \n",
    "    '''\n",
    "    \n",
    "    df = pd.DataFrame()\n",
    "    for doid in diseases.keys(): \n",
    "\n",
    "        # first get the total number of assays as first request to loop through API\n",
    "        url = 'https://query-api.iedb.org/%s_search' % table\n",
    "        params = {'order': 'structure_id',\n",
    "                  'qualitative_measure': 'neq.Negative', # select positive assays only\n",
    "                  'disease_iris': f'cs.{{{\"DOID:\"+doid}}}'} \n",
    "        r = requests.get(url, params=params, headers={'Prefer': 'count=exact'})\n",
    "        pages = int(r.headers['Content-Range'].split('/')[-1])\n",
    "      \n",
    "      # loop through IEDB API pages using requests - read into pandas DataFrame and concat\n",
    "        for i in range(pages // 10000 + 1): # API limit is 10,000 entries\n",
    "            params['offset'] = i*10000\n",
    "\n",
    "            # request API call returning csv formatting using parameters in params\n",
    "            s = requests.get(url, params=params, headers={'accept': 'text/csv', 'Prefer': 'count=exact'})\n",
    "            try:\n",
    "                df = pd.concat([df, pd.read_csv(io.StringIO(s.content.decode('utf-8')))])\n",
    "            except pd.errors.EmptyDataError:\n",
    "                continue\n",
    "\n",
    "    return df"
   ]
  },
  {
   "cell_type": "code",
   "execution_count": null,
   "id": "3f103e74",
   "metadata": {},
   "outputs": [],
   "source": []
  },
  {
   "cell_type": "code",
   "execution_count": 103,
   "id": "d20b22be",
   "metadata": {},
   "outputs": [],
   "source": [
    "tcell = pull_iedb_assay_data('tcell')\n",
    "bcell = pull_iedb_assay_data('bcell')"
   ]
  },
  {
   "cell_type": "code",
   "execution_count": 104,
   "id": "440419e1",
   "metadata": {},
   "outputs": [],
   "source": [
    "# select epitopes where host and source organism are identical\n",
    "tdf = tcell[(tcell['host_organism_iri'] == tcell['parent_source_antigen_source_org_iri']) | (tcell['host_organism_iri'] == tcell['r_object_source_organism_iri'])]\n",
    "bdf = bcell[(bcell['host_organism_iri'] == bcell['parent_source_antigen_source_org_iri']) | (bcell['host_organism_iri'] == bcell['r_object_source_organism_iri'])]"
   ]
  },
  {
   "cell_type": "code",
   "execution_count": 106,
   "id": "48d71f11",
   "metadata": {},
   "outputs": [],
   "source": [
    "tcell[(tcell['host_organism_iri'] == tcell['r_object_source_organism_iri'])].to_csv('test.csv')"
   ]
  },
  {
   "cell_type": "code",
   "execution_count": 108,
   "id": "2704fa8d",
   "metadata": {},
   "outputs": [],
   "source": [
    "tdf.to_csv('tcell.csv')"
   ]
  },
  {
   "cell_type": "code",
   "execution_count": 121,
   "id": "751abae5",
   "metadata": {},
   "outputs": [],
   "source": [
    "tdf[tdf['parent_source_antigen_iri'].fillna(tdf['r_object_source_molecule_iri']).isna()].to_csv('test.csv')\n"
   ]
  },
  {
   "cell_type": "code",
   "execution_count": null,
   "id": "50db06b0",
   "metadata": {},
   "outputs": [],
   "source": []
  }
 ],
 "metadata": {
  "kernelspec": {
   "display_name": "Python 3 (ipykernel)",
   "language": "python",
   "name": "python3"
  },
  "language_info": {
   "codemirror_mode": {
    "name": "ipython",
    "version": 3
   },
   "file_extension": ".py",
   "mimetype": "text/x-python",
   "name": "python",
   "nbconvert_exporter": "python",
   "pygments_lexer": "ipython3",
   "version": "3.10.4"
  }
 },
 "nbformat": 4,
 "nbformat_minor": 5
}
