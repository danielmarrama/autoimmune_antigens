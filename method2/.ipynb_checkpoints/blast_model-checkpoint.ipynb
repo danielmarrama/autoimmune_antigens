{
 "cells": [
  {
   "cell_type": "code",
   "execution_count": 8,
   "id": "dc3cf91a",
   "metadata": {},
   "outputs": [],
   "source": [
    "import os\n",
    "\n",
    "import pandas as pd\n",
    "\n",
    "from Bio import SeqIO\n",
    "from Bio.SeqRecord import SeqRecord\n",
    "from Bio.Blast.Applications import NcbiblastpCommandline"
   ]
  },
  {
   "cell_type": "code",
   "execution_count": 2,
   "id": "176c74f7",
   "metadata": {},
   "outputs": [],
   "source": [
    "data = pd.read_csv('../combined_data.csv')"
   ]
  },
  {
   "cell_type": "code",
   "execution_count": 7,
   "id": "898aabae",
   "metadata": {},
   "outputs": [],
   "source": [
    "seqs = []\n",
    "for i, row in data[data['fold'] != 1].iterrows():\n",
    "    seqs.append(SeqRecord(row['sequence'], id=row['id'], description=''))\n",
    "\n",
    "with open('folds2-5.fasta', 'w') as f:\n",
    "    SeqIO.write(seqs, f, 'fasta')"
   ]
  },
  {
   "cell_type": "code",
   "execution_count": null,
   "id": "b4c5074d",
   "metadata": {},
   "outputs": [],
   "source": []
  },
  {
   "cell_type": "code",
   "execution_count": null,
   "id": "e655d28b",
   "metadata": {},
   "outputs": [],
   "source": []
  },
  {
   "cell_type": "code",
   "execution_count": null,
   "id": "0b2ce6cc",
   "metadata": {},
   "outputs": [],
   "source": []
  }
 ],
 "metadata": {
  "kernelspec": {
   "display_name": "Python 3 (ipykernel)",
   "language": "python",
   "name": "python3"
  },
  "language_info": {
   "codemirror_mode": {
    "name": "ipython",
    "version": 3
   },
   "file_extension": ".py",
   "mimetype": "text/x-python",
   "name": "python",
   "nbconvert_exporter": "python",
   "pygments_lexer": "ipython3",
   "version": "3.10.4"
  }
 },
 "nbformat": 4,
 "nbformat_minor": 5
}
