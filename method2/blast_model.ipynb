{
 "cells": [
  {
   "cell_type": "code",
   "execution_count": 9,
   "id": "27196f57",
   "metadata": {},
   "outputs": [],
   "source": [
    "import os\n",
    "\n",
    "import pandas as pd\n",
    "\n",
    "from Bio import SeqIO\n",
    "from Bio.SeqRecord import SeqRecord\n",
    "from Bio.Blast.Applications import NcbiblastpCommandline"
   ]
  },
  {
   "cell_type": "code",
   "execution_count": 2,
   "id": "77bfa637",
   "metadata": {},
   "outputs": [],
   "source": [
    "data = pd.read_csv('../combined_data.csv')"
   ]
  },
  {
   "cell_type": "code",
   "execution_count": 7,
   "id": "023b97e0",
   "metadata": {},
   "outputs": [],
   "source": [
    "seqs = []\n",
    "for i, row in data[data['fold'] != 1].iterrows():\n",
    "    seqs.append(SeqRecord(row['sequence'], id=row['id'], description=''))\n",
    "\n",
    "with open('folds2-5.fasta', 'w') as f:\n",
    "    SeqIO.write(seqs, f, 'fasta')"
   ]
  },
  {
   "cell_type": "code",
   "execution_count": 12,
   "id": "f256dbc4",
   "metadata": {},
   "outputs": [
    {
     "name": "stdout",
     "output_type": "stream",
     "text": [
      "\n",
      "\n",
      "Building a new DB, current time: 12/07/2022 11:58:19\n",
      "New DB name:   /home/dan/projects/autoimmunity/method2/folds2-5.fasta\n",
      "New DB title:  folds2-5.fasta\n",
      "Sequence type: Protein\n",
      "Deleted existing Protein BLAST database named /home/dan/projects/autoimmunity/method2/folds2-5.fasta\n",
      "Keep MBits: T\n",
      "Maximum file size: 3000000000B\n"
     ]
    },
    {
     "name": "stderr",
     "output_type": "stream",
     "text": [
      "FASTA-Reader: Ignoring invalid residues at position(s): On line 1569: 8, 18, 40\n",
      "FASTA-Reader: Ignoring invalid residues at position(s): On line 1570: 31, 41\n",
      "FASTA-Reader: Ignoring invalid residues at position(s): On line 1571: 3, 54\n",
      "FASTA-Reader: Ignoring invalid residues at position(s): On line 1572: 4, 26\n",
      "FASTA-Reader: Ignoring invalid residues at position(s): On line 1574: 1, 15-19, 22, 27, 30-31, 34-35\n"
     ]
    },
    {
     "name": "stdout",
     "output_type": "stream",
     "text": [
      "Adding sequences from FASTA; added 16421 sequences in 0.264981 seconds.\n",
      "\n",
      "\n"
     ]
    },
    {
     "data": {
      "text/plain": [
       "0"
      ]
     },
     "execution_count": 12,
     "metadata": {},
     "output_type": "execute_result"
    }
   ],
   "source": [
    "os.system('../blast/makeblastdb' + ' -in ' + 'folds2-5.fasta' + ' -dbtype prot')"
   ]
  },
  {
   "cell_type": "code",
   "execution_count": 17,
   "id": "7a597633",
   "metadata": {},
   "outputs": [],
   "source": [
    "blastx_cline = NcbiblastpCommandline(\n",
    "                cmd='../blast/blastp',\n",
    "                query = 'fold1.fasta',\n",
    "                db = 'folds2-5.fasta', \n",
    "                evalue=100, outfmt=7, out='fold1_output.csv')\n",
    "\n",
    "stdout, stderr = blastx_cline()"
   ]
  },
  {
   "cell_type": "code",
   "execution_count": null,
   "id": "7d8eb3f8",
   "metadata": {},
   "outputs": [],
   "source": []
  }
 ],
 "metadata": {
  "kernelspec": {
   "display_name": "Python 3 (ipykernel)",
   "language": "python",
   "name": "python3"
  },
  "language_info": {
   "codemirror_mode": {
    "name": "ipython",
    "version": 3
   },
   "file_extension": ".py",
   "mimetype": "text/x-python",
   "name": "python",
   "nbconvert_exporter": "python",
   "pygments_lexer": "ipython3",
   "version": "3.10.4"
  }
 },
 "nbformat": 4,
 "nbformat_minor": 5
}
